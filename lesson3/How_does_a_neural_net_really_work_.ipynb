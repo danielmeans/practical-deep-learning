{
  "metadata": {
    "kernelspec": {
      "display_name": "Python 3",
      "name": "python3"
    },
    "language_info": {
      "pygments_lexer": "ipython3",
      "nbconvert_exporter": "python",
      "version": "3.6.4",
      "file_extension": ".py",
      "codemirror_mode": {
        "name": "ipython",
        "version": 3
      },
      "name": "python",
      "mimetype": "text/x-python"
    },
    "colab": {
      "name": "How does a neural net really work?",
      "provenance": [],
      "gpuType": "T4"
    },
    "accelerator": "GPU",
    "widgets": {
      "application/vnd.jupyter.widget-state+json": {
        "b84cc6d770af4949bc1b9e558cfcf122": {
          "model_module": "@jupyter-widgets/controls",
          "model_name": "VBoxModel",
          "model_module_version": "1.5.0",
          "state": {
            "_dom_classes": [
              "widget-interact"
            ],
            "_model_module": "@jupyter-widgets/controls",
            "_model_module_version": "1.5.0",
            "_model_name": "VBoxModel",
            "_view_count": null,
            "_view_module": "@jupyter-widgets/controls",
            "_view_module_version": "1.5.0",
            "_view_name": "VBoxView",
            "box_style": "",
            "children": [
              "IPY_MODEL_cbfc5f9f4754483c87123f7c4a3d0e3c",
              "IPY_MODEL_4a29f5a5865549cab2aa80a182ab6ee2",
              "IPY_MODEL_e32b79890b054b658a14e21c99914582",
              "IPY_MODEL_83f0ff22d49940ce912288bfdcbde90d"
            ],
            "layout": "IPY_MODEL_5cb01d2a3bfc40838b8fcb9ae80c11d0"
          }
        },
        "cbfc5f9f4754483c87123f7c4a3d0e3c": {
          "model_module": "@jupyter-widgets/controls",
          "model_name": "FloatSliderModel",
          "model_module_version": "1.5.0",
          "state": {
            "_dom_classes": [],
            "_model_module": "@jupyter-widgets/controls",
            "_model_module_version": "1.5.0",
            "_model_name": "FloatSliderModel",
            "_view_count": null,
            "_view_module": "@jupyter-widgets/controls",
            "_view_module_version": "1.5.0",
            "_view_name": "FloatSliderView",
            "continuous_update": true,
            "description": "a",
            "description_tooltip": null,
            "disabled": false,
            "layout": "IPY_MODEL_dcbaf1af5d554b55b0f9730f8fb686f0",
            "max": 3.3000000000000003,
            "min": -1.1,
            "orientation": "horizontal",
            "readout": true,
            "readout_format": ".2f",
            "step": 0.1,
            "style": "IPY_MODEL_2f4a82b336254e02be4fef9c2d60fe60",
            "value": 1.5
          }
        },
        "4a29f5a5865549cab2aa80a182ab6ee2": {
          "model_module": "@jupyter-widgets/controls",
          "model_name": "FloatSliderModel",
          "model_module_version": "1.5.0",
          "state": {
            "_dom_classes": [],
            "_model_module": "@jupyter-widgets/controls",
            "_model_module_version": "1.5.0",
            "_model_name": "FloatSliderModel",
            "_view_count": null,
            "_view_module": "@jupyter-widgets/controls",
            "_view_module_version": "1.5.0",
            "_view_name": "FloatSliderView",
            "continuous_update": true,
            "description": "b",
            "description_tooltip": null,
            "disabled": false,
            "layout": "IPY_MODEL_49ee24bbbf394885a0b4649ee01eefac",
            "max": 3.3000000000000003,
            "min": -1.1,
            "orientation": "horizontal",
            "readout": true,
            "readout_format": ".2f",
            "step": 0.1,
            "style": "IPY_MODEL_67c3283e1b6c4d2aa8a3b05c1a70451c",
            "value": 1.1
          }
        },
        "e32b79890b054b658a14e21c99914582": {
          "model_module": "@jupyter-widgets/controls",
          "model_name": "FloatSliderModel",
          "model_module_version": "1.5.0",
          "state": {
            "_dom_classes": [],
            "_model_module": "@jupyter-widgets/controls",
            "_model_module_version": "1.5.0",
            "_model_name": "FloatSliderModel",
            "_view_count": null,
            "_view_module": "@jupyter-widgets/controls",
            "_view_module_version": "1.5.0",
            "_view_name": "FloatSliderView",
            "continuous_update": true,
            "description": "c",
            "description_tooltip": null,
            "disabled": false,
            "layout": "IPY_MODEL_90dd486923db455b9f695c9d866b0aa2",
            "max": 3.3000000000000003,
            "min": -1.1,
            "orientation": "horizontal",
            "readout": true,
            "readout_format": ".2f",
            "step": 0.1,
            "style": "IPY_MODEL_13ae8de1bbf4460d9a6d284c31cbaf2c",
            "value": 1.1
          }
        },
        "83f0ff22d49940ce912288bfdcbde90d": {
          "model_module": "@jupyter-widgets/output",
          "model_name": "OutputModel",
          "model_module_version": "1.0.0",
          "state": {
            "_dom_classes": [],
            "_model_module": "@jupyter-widgets/output",
            "_model_module_version": "1.0.0",
            "_model_name": "OutputModel",
            "_view_count": null,
            "_view_module": "@jupyter-widgets/output",
            "_view_module_version": "1.0.0",
            "_view_name": "OutputView",
            "layout": "IPY_MODEL_efa612539088443ca3db82581bc2b162",
            "msg_id": "",
            "outputs": []
          }
        },
        "5cb01d2a3bfc40838b8fcb9ae80c11d0": {
          "model_module": "@jupyter-widgets/base",
          "model_name": "LayoutModel",
          "model_module_version": "1.2.0",
          "state": {
            "_model_module": "@jupyter-widgets/base",
            "_model_module_version": "1.2.0",
            "_model_name": "LayoutModel",
            "_view_count": null,
            "_view_module": "@jupyter-widgets/base",
            "_view_module_version": "1.2.0",
            "_view_name": "LayoutView",
            "align_content": null,
            "align_items": null,
            "align_self": null,
            "border": null,
            "bottom": null,
            "display": null,
            "flex": null,
            "flex_flow": null,
            "grid_area": null,
            "grid_auto_columns": null,
            "grid_auto_flow": null,
            "grid_auto_rows": null,
            "grid_column": null,
            "grid_gap": null,
            "grid_row": null,
            "grid_template_areas": null,
            "grid_template_columns": null,
            "grid_template_rows": null,
            "height": null,
            "justify_content": null,
            "justify_items": null,
            "left": null,
            "margin": null,
            "max_height": null,
            "max_width": null,
            "min_height": null,
            "min_width": null,
            "object_fit": null,
            "object_position": null,
            "order": null,
            "overflow": null,
            "overflow_x": null,
            "overflow_y": null,
            "padding": null,
            "right": null,
            "top": null,
            "visibility": null,
            "width": null
          }
        },
        "dcbaf1af5d554b55b0f9730f8fb686f0": {
          "model_module": "@jupyter-widgets/base",
          "model_name": "LayoutModel",
          "model_module_version": "1.2.0",
          "state": {
            "_model_module": "@jupyter-widgets/base",
            "_model_module_version": "1.2.0",
            "_model_name": "LayoutModel",
            "_view_count": null,
            "_view_module": "@jupyter-widgets/base",
            "_view_module_version": "1.2.0",
            "_view_name": "LayoutView",
            "align_content": null,
            "align_items": null,
            "align_self": null,
            "border": null,
            "bottom": null,
            "display": null,
            "flex": null,
            "flex_flow": null,
            "grid_area": null,
            "grid_auto_columns": null,
            "grid_auto_flow": null,
            "grid_auto_rows": null,
            "grid_column": null,
            "grid_gap": null,
            "grid_row": null,
            "grid_template_areas": null,
            "grid_template_columns": null,
            "grid_template_rows": null,
            "height": null,
            "justify_content": null,
            "justify_items": null,
            "left": null,
            "margin": null,
            "max_height": null,
            "max_width": null,
            "min_height": null,
            "min_width": null,
            "object_fit": null,
            "object_position": null,
            "order": null,
            "overflow": null,
            "overflow_x": null,
            "overflow_y": null,
            "padding": null,
            "right": null,
            "top": null,
            "visibility": null,
            "width": null
          }
        },
        "2f4a82b336254e02be4fef9c2d60fe60": {
          "model_module": "@jupyter-widgets/controls",
          "model_name": "SliderStyleModel",
          "model_module_version": "1.5.0",
          "state": {
            "_model_module": "@jupyter-widgets/controls",
            "_model_module_version": "1.5.0",
            "_model_name": "SliderStyleModel",
            "_view_count": null,
            "_view_module": "@jupyter-widgets/base",
            "_view_module_version": "1.2.0",
            "_view_name": "StyleView",
            "description_width": "",
            "handle_color": null
          }
        },
        "49ee24bbbf394885a0b4649ee01eefac": {
          "model_module": "@jupyter-widgets/base",
          "model_name": "LayoutModel",
          "model_module_version": "1.2.0",
          "state": {
            "_model_module": "@jupyter-widgets/base",
            "_model_module_version": "1.2.0",
            "_model_name": "LayoutModel",
            "_view_count": null,
            "_view_module": "@jupyter-widgets/base",
            "_view_module_version": "1.2.0",
            "_view_name": "LayoutView",
            "align_content": null,
            "align_items": null,
            "align_self": null,
            "border": null,
            "bottom": null,
            "display": null,
            "flex": null,
            "flex_flow": null,
            "grid_area": null,
            "grid_auto_columns": null,
            "grid_auto_flow": null,
            "grid_auto_rows": null,
            "grid_column": null,
            "grid_gap": null,
            "grid_row": null,
            "grid_template_areas": null,
            "grid_template_columns": null,
            "grid_template_rows": null,
            "height": null,
            "justify_content": null,
            "justify_items": null,
            "left": null,
            "margin": null,
            "max_height": null,
            "max_width": null,
            "min_height": null,
            "min_width": null,
            "object_fit": null,
            "object_position": null,
            "order": null,
            "overflow": null,
            "overflow_x": null,
            "overflow_y": null,
            "padding": null,
            "right": null,
            "top": null,
            "visibility": null,
            "width": null
          }
        },
        "67c3283e1b6c4d2aa8a3b05c1a70451c": {
          "model_module": "@jupyter-widgets/controls",
          "model_name": "SliderStyleModel",
          "model_module_version": "1.5.0",
          "state": {
            "_model_module": "@jupyter-widgets/controls",
            "_model_module_version": "1.5.0",
            "_model_name": "SliderStyleModel",
            "_view_count": null,
            "_view_module": "@jupyter-widgets/base",
            "_view_module_version": "1.2.0",
            "_view_name": "StyleView",
            "description_width": "",
            "handle_color": null
          }
        },
        "90dd486923db455b9f695c9d866b0aa2": {
          "model_module": "@jupyter-widgets/base",
          "model_name": "LayoutModel",
          "model_module_version": "1.2.0",
          "state": {
            "_model_module": "@jupyter-widgets/base",
            "_model_module_version": "1.2.0",
            "_model_name": "LayoutModel",
            "_view_count": null,
            "_view_module": "@jupyter-widgets/base",
            "_view_module_version": "1.2.0",
            "_view_name": "LayoutView",
            "align_content": null,
            "align_items": null,
            "align_self": null,
            "border": null,
            "bottom": null,
            "display": null,
            "flex": null,
            "flex_flow": null,
            "grid_area": null,
            "grid_auto_columns": null,
            "grid_auto_flow": null,
            "grid_auto_rows": null,
            "grid_column": null,
            "grid_gap": null,
            "grid_row": null,
            "grid_template_areas": null,
            "grid_template_columns": null,
            "grid_template_rows": null,
            "height": null,
            "justify_content": null,
            "justify_items": null,
            "left": null,
            "margin": null,
            "max_height": null,
            "max_width": null,
            "min_height": null,
            "min_width": null,
            "object_fit": null,
            "object_position": null,
            "order": null,
            "overflow": null,
            "overflow_x": null,
            "overflow_y": null,
            "padding": null,
            "right": null,
            "top": null,
            "visibility": null,
            "width": null
          }
        },
        "13ae8de1bbf4460d9a6d284c31cbaf2c": {
          "model_module": "@jupyter-widgets/controls",
          "model_name": "SliderStyleModel",
          "model_module_version": "1.5.0",
          "state": {
            "_model_module": "@jupyter-widgets/controls",
            "_model_module_version": "1.5.0",
            "_model_name": "SliderStyleModel",
            "_view_count": null,
            "_view_module": "@jupyter-widgets/base",
            "_view_module_version": "1.2.0",
            "_view_name": "StyleView",
            "description_width": "",
            "handle_color": null
          }
        },
        "efa612539088443ca3db82581bc2b162": {
          "model_module": "@jupyter-widgets/base",
          "model_name": "LayoutModel",
          "model_module_version": "1.2.0",
          "state": {
            "_model_module": "@jupyter-widgets/base",
            "_model_module_version": "1.2.0",
            "_model_name": "LayoutModel",
            "_view_count": null,
            "_view_module": "@jupyter-widgets/base",
            "_view_module_version": "1.2.0",
            "_view_name": "LayoutView",
            "align_content": null,
            "align_items": null,
            "align_self": null,
            "border": null,
            "bottom": null,
            "display": null,
            "flex": null,
            "flex_flow": null,
            "grid_area": null,
            "grid_auto_columns": null,
            "grid_auto_flow": null,
            "grid_auto_rows": null,
            "grid_column": null,
            "grid_gap": null,
            "grid_row": null,
            "grid_template_areas": null,
            "grid_template_columns": null,
            "grid_template_rows": null,
            "height": null,
            "justify_content": null,
            "justify_items": null,
            "left": null,
            "margin": null,
            "max_height": null,
            "max_width": null,
            "min_height": null,
            "min_width": null,
            "object_fit": null,
            "object_position": null,
            "order": null,
            "overflow": null,
            "overflow_x": null,
            "overflow_y": null,
            "padding": null,
            "right": null,
            "top": null,
            "visibility": null,
            "width": null
          }
        },
        "ddce62f75a0244e18e725d7926ab4aa6": {
          "model_module": "@jupyter-widgets/controls",
          "model_name": "VBoxModel",
          "model_module_version": "1.5.0",
          "state": {
            "_dom_classes": [
              "widget-interact"
            ],
            "_model_module": "@jupyter-widgets/controls",
            "_model_module_version": "1.5.0",
            "_model_name": "VBoxModel",
            "_view_count": null,
            "_view_module": "@jupyter-widgets/controls",
            "_view_module_version": "1.5.0",
            "_view_name": "VBoxView",
            "box_style": "",
            "children": [
              "IPY_MODEL_cf6b276e3fe54bacada383d5965b5494",
              "IPY_MODEL_b34df70a261445f29cdb870bcc8c2faf",
              "IPY_MODEL_445c171046fb4d39916e2996fcaadd7b",
              "IPY_MODEL_14ffce8bb24f47a0ad7ce44c2678dcdb"
            ],
            "layout": "IPY_MODEL_120cc14252bb4d69a3b2428ed086c24e"
          }
        },
        "cf6b276e3fe54bacada383d5965b5494": {
          "model_module": "@jupyter-widgets/controls",
          "model_name": "FloatSliderModel",
          "model_module_version": "1.5.0",
          "state": {
            "_dom_classes": [],
            "_model_module": "@jupyter-widgets/controls",
            "_model_module_version": "1.5.0",
            "_model_name": "FloatSliderModel",
            "_view_count": null,
            "_view_module": "@jupyter-widgets/controls",
            "_view_module_version": "1.5.0",
            "_view_name": "FloatSliderView",
            "continuous_update": true,
            "description": "a",
            "description_tooltip": null,
            "disabled": false,
            "layout": "IPY_MODEL_06a96409bc824e44959ccc8631865e0b",
            "max": 3.3000000000000003,
            "min": -1.1,
            "orientation": "horizontal",
            "readout": true,
            "readout_format": ".2f",
            "step": 0.1,
            "style": "IPY_MODEL_dc2b713245044d68b34b60a75cc9e5bd",
            "value": 1.1
          }
        },
        "b34df70a261445f29cdb870bcc8c2faf": {
          "model_module": "@jupyter-widgets/controls",
          "model_name": "FloatSliderModel",
          "model_module_version": "1.5.0",
          "state": {
            "_dom_classes": [],
            "_model_module": "@jupyter-widgets/controls",
            "_model_module_version": "1.5.0",
            "_model_name": "FloatSliderModel",
            "_view_count": null,
            "_view_module": "@jupyter-widgets/controls",
            "_view_module_version": "1.5.0",
            "_view_name": "FloatSliderView",
            "continuous_update": true,
            "description": "b",
            "description_tooltip": null,
            "disabled": false,
            "layout": "IPY_MODEL_cd95fa9161654b0f8a135abaf316a5db",
            "max": 3.3000000000000003,
            "min": -1.1,
            "orientation": "horizontal",
            "readout": true,
            "readout_format": ".2f",
            "step": 0.1,
            "style": "IPY_MODEL_e876e6807ef3442abca7d2504a9ab859",
            "value": 1.1
          }
        },
        "445c171046fb4d39916e2996fcaadd7b": {
          "model_module": "@jupyter-widgets/controls",
          "model_name": "FloatSliderModel",
          "model_module_version": "1.5.0",
          "state": {
            "_dom_classes": [],
            "_model_module": "@jupyter-widgets/controls",
            "_model_module_version": "1.5.0",
            "_model_name": "FloatSliderModel",
            "_view_count": null,
            "_view_module": "@jupyter-widgets/controls",
            "_view_module_version": "1.5.0",
            "_view_name": "FloatSliderView",
            "continuous_update": true,
            "description": "c",
            "description_tooltip": null,
            "disabled": false,
            "layout": "IPY_MODEL_b98d13ff7ab9486b97c65e521c07ca33",
            "max": 3.3000000000000003,
            "min": -1.1,
            "orientation": "horizontal",
            "readout": true,
            "readout_format": ".2f",
            "step": 0.1,
            "style": "IPY_MODEL_804b1af78f0b446c8008efdf8da0ecba",
            "value": 1.1
          }
        },
        "14ffce8bb24f47a0ad7ce44c2678dcdb": {
          "model_module": "@jupyter-widgets/output",
          "model_name": "OutputModel",
          "model_module_version": "1.0.0",
          "state": {
            "_dom_classes": [],
            "_model_module": "@jupyter-widgets/output",
            "_model_module_version": "1.0.0",
            "_model_name": "OutputModel",
            "_view_count": null,
            "_view_module": "@jupyter-widgets/output",
            "_view_module_version": "1.0.0",
            "_view_name": "OutputView",
            "layout": "IPY_MODEL_9189ad648b7f44aca09690d79705df5a",
            "msg_id": "",
            "outputs": []
          }
        },
        "120cc14252bb4d69a3b2428ed086c24e": {
          "model_module": "@jupyter-widgets/base",
          "model_name": "LayoutModel",
          "model_module_version": "1.2.0",
          "state": {
            "_model_module": "@jupyter-widgets/base",
            "_model_module_version": "1.2.0",
            "_model_name": "LayoutModel",
            "_view_count": null,
            "_view_module": "@jupyter-widgets/base",
            "_view_module_version": "1.2.0",
            "_view_name": "LayoutView",
            "align_content": null,
            "align_items": null,
            "align_self": null,
            "border": null,
            "bottom": null,
            "display": null,
            "flex": null,
            "flex_flow": null,
            "grid_area": null,
            "grid_auto_columns": null,
            "grid_auto_flow": null,
            "grid_auto_rows": null,
            "grid_column": null,
            "grid_gap": null,
            "grid_row": null,
            "grid_template_areas": null,
            "grid_template_columns": null,
            "grid_template_rows": null,
            "height": null,
            "justify_content": null,
            "justify_items": null,
            "left": null,
            "margin": null,
            "max_height": null,
            "max_width": null,
            "min_height": null,
            "min_width": null,
            "object_fit": null,
            "object_position": null,
            "order": null,
            "overflow": null,
            "overflow_x": null,
            "overflow_y": null,
            "padding": null,
            "right": null,
            "top": null,
            "visibility": null,
            "width": null
          }
        },
        "06a96409bc824e44959ccc8631865e0b": {
          "model_module": "@jupyter-widgets/base",
          "model_name": "LayoutModel",
          "model_module_version": "1.2.0",
          "state": {
            "_model_module": "@jupyter-widgets/base",
            "_model_module_version": "1.2.0",
            "_model_name": "LayoutModel",
            "_view_count": null,
            "_view_module": "@jupyter-widgets/base",
            "_view_module_version": "1.2.0",
            "_view_name": "LayoutView",
            "align_content": null,
            "align_items": null,
            "align_self": null,
            "border": null,
            "bottom": null,
            "display": null,
            "flex": null,
            "flex_flow": null,
            "grid_area": null,
            "grid_auto_columns": null,
            "grid_auto_flow": null,
            "grid_auto_rows": null,
            "grid_column": null,
            "grid_gap": null,
            "grid_row": null,
            "grid_template_areas": null,
            "grid_template_columns": null,
            "grid_template_rows": null,
            "height": null,
            "justify_content": null,
            "justify_items": null,
            "left": null,
            "margin": null,
            "max_height": null,
            "max_width": null,
            "min_height": null,
            "min_width": null,
            "object_fit": null,
            "object_position": null,
            "order": null,
            "overflow": null,
            "overflow_x": null,
            "overflow_y": null,
            "padding": null,
            "right": null,
            "top": null,
            "visibility": null,
            "width": null
          }
        },
        "dc2b713245044d68b34b60a75cc9e5bd": {
          "model_module": "@jupyter-widgets/controls",
          "model_name": "SliderStyleModel",
          "model_module_version": "1.5.0",
          "state": {
            "_model_module": "@jupyter-widgets/controls",
            "_model_module_version": "1.5.0",
            "_model_name": "SliderStyleModel",
            "_view_count": null,
            "_view_module": "@jupyter-widgets/base",
            "_view_module_version": "1.2.0",
            "_view_name": "StyleView",
            "description_width": "",
            "handle_color": null
          }
        },
        "cd95fa9161654b0f8a135abaf316a5db": {
          "model_module": "@jupyter-widgets/base",
          "model_name": "LayoutModel",
          "model_module_version": "1.2.0",
          "state": {
            "_model_module": "@jupyter-widgets/base",
            "_model_module_version": "1.2.0",
            "_model_name": "LayoutModel",
            "_view_count": null,
            "_view_module": "@jupyter-widgets/base",
            "_view_module_version": "1.2.0",
            "_view_name": "LayoutView",
            "align_content": null,
            "align_items": null,
            "align_self": null,
            "border": null,
            "bottom": null,
            "display": null,
            "flex": null,
            "flex_flow": null,
            "grid_area": null,
            "grid_auto_columns": null,
            "grid_auto_flow": null,
            "grid_auto_rows": null,
            "grid_column": null,
            "grid_gap": null,
            "grid_row": null,
            "grid_template_areas": null,
            "grid_template_columns": null,
            "grid_template_rows": null,
            "height": null,
            "justify_content": null,
            "justify_items": null,
            "left": null,
            "margin": null,
            "max_height": null,
            "max_width": null,
            "min_height": null,
            "min_width": null,
            "object_fit": null,
            "object_position": null,
            "order": null,
            "overflow": null,
            "overflow_x": null,
            "overflow_y": null,
            "padding": null,
            "right": null,
            "top": null,
            "visibility": null,
            "width": null
          }
        },
        "e876e6807ef3442abca7d2504a9ab859": {
          "model_module": "@jupyter-widgets/controls",
          "model_name": "SliderStyleModel",
          "model_module_version": "1.5.0",
          "state": {
            "_model_module": "@jupyter-widgets/controls",
            "_model_module_version": "1.5.0",
            "_model_name": "SliderStyleModel",
            "_view_count": null,
            "_view_module": "@jupyter-widgets/base",
            "_view_module_version": "1.2.0",
            "_view_name": "StyleView",
            "description_width": "",
            "handle_color": null
          }
        },
        "b98d13ff7ab9486b97c65e521c07ca33": {
          "model_module": "@jupyter-widgets/base",
          "model_name": "LayoutModel",
          "model_module_version": "1.2.0",
          "state": {
            "_model_module": "@jupyter-widgets/base",
            "_model_module_version": "1.2.0",
            "_model_name": "LayoutModel",
            "_view_count": null,
            "_view_module": "@jupyter-widgets/base",
            "_view_module_version": "1.2.0",
            "_view_name": "LayoutView",
            "align_content": null,
            "align_items": null,
            "align_self": null,
            "border": null,
            "bottom": null,
            "display": null,
            "flex": null,
            "flex_flow": null,
            "grid_area": null,
            "grid_auto_columns": null,
            "grid_auto_flow": null,
            "grid_auto_rows": null,
            "grid_column": null,
            "grid_gap": null,
            "grid_row": null,
            "grid_template_areas": null,
            "grid_template_columns": null,
            "grid_template_rows": null,
            "height": null,
            "justify_content": null,
            "justify_items": null,
            "left": null,
            "margin": null,
            "max_height": null,
            "max_width": null,
            "min_height": null,
            "min_width": null,
            "object_fit": null,
            "object_position": null,
            "order": null,
            "overflow": null,
            "overflow_x": null,
            "overflow_y": null,
            "padding": null,
            "right": null,
            "top": null,
            "visibility": null,
            "width": null
          }
        },
        "804b1af78f0b446c8008efdf8da0ecba": {
          "model_module": "@jupyter-widgets/controls",
          "model_name": "SliderStyleModel",
          "model_module_version": "1.5.0",
          "state": {
            "_model_module": "@jupyter-widgets/controls",
            "_model_module_version": "1.5.0",
            "_model_name": "SliderStyleModel",
            "_view_count": null,
            "_view_module": "@jupyter-widgets/base",
            "_view_module_version": "1.2.0",
            "_view_name": "StyleView",
            "description_width": "",
            "handle_color": null
          }
        },
        "9189ad648b7f44aca09690d79705df5a": {
          "model_module": "@jupyter-widgets/base",
          "model_name": "LayoutModel",
          "model_module_version": "1.2.0",
          "state": {
            "_model_module": "@jupyter-widgets/base",
            "_model_module_version": "1.2.0",
            "_model_name": "LayoutModel",
            "_view_count": null,
            "_view_module": "@jupyter-widgets/base",
            "_view_module_version": "1.2.0",
            "_view_name": "LayoutView",
            "align_content": null,
            "align_items": null,
            "align_self": null,
            "border": null,
            "bottom": null,
            "display": null,
            "flex": null,
            "flex_flow": null,
            "grid_area": null,
            "grid_auto_columns": null,
            "grid_auto_flow": null,
            "grid_auto_rows": null,
            "grid_column": null,
            "grid_gap": null,
            "grid_row": null,
            "grid_template_areas": null,
            "grid_template_columns": null,
            "grid_template_rows": null,
            "height": null,
            "justify_content": null,
            "justify_items": null,
            "left": null,
            "margin": null,
            "max_height": null,
            "max_width": null,
            "min_height": null,
            "min_width": null,
            "object_fit": null,
            "object_position": null,
            "order": null,
            "overflow": null,
            "overflow_x": null,
            "overflow_y": null,
            "padding": null,
            "right": null,
            "top": null,
            "visibility": null,
            "width": null
          }
        },
        "7f2f275938504ff493d4dac4adfc0c39": {
          "model_module": "@jupyter-widgets/controls",
          "model_name": "VBoxModel",
          "model_module_version": "1.5.0",
          "state": {
            "_dom_classes": [
              "widget-interact"
            ],
            "_model_module": "@jupyter-widgets/controls",
            "_model_module_version": "1.5.0",
            "_model_name": "VBoxModel",
            "_view_count": null,
            "_view_module": "@jupyter-widgets/controls",
            "_view_module_version": "1.5.0",
            "_view_name": "VBoxView",
            "box_style": "",
            "children": [
              "IPY_MODEL_42c3da332fa348798757d627a6ca10d1",
              "IPY_MODEL_b08e8f347b784cac9ed82bdf5f43eca9",
              "IPY_MODEL_3c37c83e0c874d42bbb1754c6a30fc1a"
            ],
            "layout": "IPY_MODEL_9136e44def6e4338b8c4c3a65151b2f0"
          }
        },
        "42c3da332fa348798757d627a6ca10d1": {
          "model_module": "@jupyter-widgets/controls",
          "model_name": "FloatSliderModel",
          "model_module_version": "1.5.0",
          "state": {
            "_dom_classes": [],
            "_model_module": "@jupyter-widgets/controls",
            "_model_module_version": "1.5.0",
            "_model_name": "FloatSliderModel",
            "_view_count": null,
            "_view_module": "@jupyter-widgets/controls",
            "_view_module_version": "1.5.0",
            "_view_name": "FloatSliderView",
            "continuous_update": true,
            "description": "m",
            "description_tooltip": null,
            "disabled": false,
            "layout": "IPY_MODEL_9734040b789a4913aac6f0ba9e929e84",
            "max": 4.5,
            "min": -1.5,
            "orientation": "horizontal",
            "readout": true,
            "readout_format": ".2f",
            "step": 0.1,
            "style": "IPY_MODEL_2a832d5b903245b88050b00f3c36fd01",
            "value": 1.7
          }
        },
        "b08e8f347b784cac9ed82bdf5f43eca9": {
          "model_module": "@jupyter-widgets/controls",
          "model_name": "FloatSliderModel",
          "model_module_version": "1.5.0",
          "state": {
            "_dom_classes": [],
            "_model_module": "@jupyter-widgets/controls",
            "_model_module_version": "1.5.0",
            "_model_name": "FloatSliderModel",
            "_view_count": null,
            "_view_module": "@jupyter-widgets/controls",
            "_view_module_version": "1.5.0",
            "_view_name": "FloatSliderView",
            "continuous_update": true,
            "description": "b",
            "description_tooltip": null,
            "disabled": false,
            "layout": "IPY_MODEL_d1311a0f53aa44038f7f2ba81ec87f14",
            "max": 4.5,
            "min": -1.5,
            "orientation": "horizontal",
            "readout": true,
            "readout_format": ".2f",
            "step": 0.1,
            "style": "IPY_MODEL_6383298119534e9d945ccf18fe7c7b13",
            "value": 0.4
          }
        },
        "3c37c83e0c874d42bbb1754c6a30fc1a": {
          "model_module": "@jupyter-widgets/output",
          "model_name": "OutputModel",
          "model_module_version": "1.0.0",
          "state": {
            "_dom_classes": [],
            "_model_module": "@jupyter-widgets/output",
            "_model_module_version": "1.0.0",
            "_model_name": "OutputModel",
            "_view_count": null,
            "_view_module": "@jupyter-widgets/output",
            "_view_module_version": "1.0.0",
            "_view_name": "OutputView",
            "layout": "IPY_MODEL_81b0582c54fe476885f3ea61b0ae4556",
            "msg_id": "",
            "outputs": []
          }
        },
        "9136e44def6e4338b8c4c3a65151b2f0": {
          "model_module": "@jupyter-widgets/base",
          "model_name": "LayoutModel",
          "model_module_version": "1.2.0",
          "state": {
            "_model_module": "@jupyter-widgets/base",
            "_model_module_version": "1.2.0",
            "_model_name": "LayoutModel",
            "_view_count": null,
            "_view_module": "@jupyter-widgets/base",
            "_view_module_version": "1.2.0",
            "_view_name": "LayoutView",
            "align_content": null,
            "align_items": null,
            "align_self": null,
            "border": null,
            "bottom": null,
            "display": null,
            "flex": null,
            "flex_flow": null,
            "grid_area": null,
            "grid_auto_columns": null,
            "grid_auto_flow": null,
            "grid_auto_rows": null,
            "grid_column": null,
            "grid_gap": null,
            "grid_row": null,
            "grid_template_areas": null,
            "grid_template_columns": null,
            "grid_template_rows": null,
            "height": null,
            "justify_content": null,
            "justify_items": null,
            "left": null,
            "margin": null,
            "max_height": null,
            "max_width": null,
            "min_height": null,
            "min_width": null,
            "object_fit": null,
            "object_position": null,
            "order": null,
            "overflow": null,
            "overflow_x": null,
            "overflow_y": null,
            "padding": null,
            "right": null,
            "top": null,
            "visibility": null,
            "width": null
          }
        },
        "9734040b789a4913aac6f0ba9e929e84": {
          "model_module": "@jupyter-widgets/base",
          "model_name": "LayoutModel",
          "model_module_version": "1.2.0",
          "state": {
            "_model_module": "@jupyter-widgets/base",
            "_model_module_version": "1.2.0",
            "_model_name": "LayoutModel",
            "_view_count": null,
            "_view_module": "@jupyter-widgets/base",
            "_view_module_version": "1.2.0",
            "_view_name": "LayoutView",
            "align_content": null,
            "align_items": null,
            "align_self": null,
            "border": null,
            "bottom": null,
            "display": null,
            "flex": null,
            "flex_flow": null,
            "grid_area": null,
            "grid_auto_columns": null,
            "grid_auto_flow": null,
            "grid_auto_rows": null,
            "grid_column": null,
            "grid_gap": null,
            "grid_row": null,
            "grid_template_areas": null,
            "grid_template_columns": null,
            "grid_template_rows": null,
            "height": null,
            "justify_content": null,
            "justify_items": null,
            "left": null,
            "margin": null,
            "max_height": null,
            "max_width": null,
            "min_height": null,
            "min_width": null,
            "object_fit": null,
            "object_position": null,
            "order": null,
            "overflow": null,
            "overflow_x": null,
            "overflow_y": null,
            "padding": null,
            "right": null,
            "top": null,
            "visibility": null,
            "width": null
          }
        },
        "2a832d5b903245b88050b00f3c36fd01": {
          "model_module": "@jupyter-widgets/controls",
          "model_name": "SliderStyleModel",
          "model_module_version": "1.5.0",
          "state": {
            "_model_module": "@jupyter-widgets/controls",
            "_model_module_version": "1.5.0",
            "_model_name": "SliderStyleModel",
            "_view_count": null,
            "_view_module": "@jupyter-widgets/base",
            "_view_module_version": "1.2.0",
            "_view_name": "StyleView",
            "description_width": "",
            "handle_color": null
          }
        },
        "d1311a0f53aa44038f7f2ba81ec87f14": {
          "model_module": "@jupyter-widgets/base",
          "model_name": "LayoutModel",
          "model_module_version": "1.2.0",
          "state": {
            "_model_module": "@jupyter-widgets/base",
            "_model_module_version": "1.2.0",
            "_model_name": "LayoutModel",
            "_view_count": null,
            "_view_module": "@jupyter-widgets/base",
            "_view_module_version": "1.2.0",
            "_view_name": "LayoutView",
            "align_content": null,
            "align_items": null,
            "align_self": null,
            "border": null,
            "bottom": null,
            "display": null,
            "flex": null,
            "flex_flow": null,
            "grid_area": null,
            "grid_auto_columns": null,
            "grid_auto_flow": null,
            "grid_auto_rows": null,
            "grid_column": null,
            "grid_gap": null,
            "grid_row": null,
            "grid_template_areas": null,
            "grid_template_columns": null,
            "grid_template_rows": null,
            "height": null,
            "justify_content": null,
            "justify_items": null,
            "left": null,
            "margin": null,
            "max_height": null,
            "max_width": null,
            "min_height": null,
            "min_width": null,
            "object_fit": null,
            "object_position": null,
            "order": null,
            "overflow": null,
            "overflow_x": null,
            "overflow_y": null,
            "padding": null,
            "right": null,
            "top": null,
            "visibility": null,
            "width": null
          }
        },
        "6383298119534e9d945ccf18fe7c7b13": {
          "model_module": "@jupyter-widgets/controls",
          "model_name": "SliderStyleModel",
          "model_module_version": "1.5.0",
          "state": {
            "_model_module": "@jupyter-widgets/controls",
            "_model_module_version": "1.5.0",
            "_model_name": "SliderStyleModel",
            "_view_count": null,
            "_view_module": "@jupyter-widgets/base",
            "_view_module_version": "1.2.0",
            "_view_name": "StyleView",
            "description_width": "",
            "handle_color": null
          }
        },
        "81b0582c54fe476885f3ea61b0ae4556": {
          "model_module": "@jupyter-widgets/base",
          "model_name": "LayoutModel",
          "model_module_version": "1.2.0",
          "state": {
            "_model_module": "@jupyter-widgets/base",
            "_model_module_version": "1.2.0",
            "_model_name": "LayoutModel",
            "_view_count": null,
            "_view_module": "@jupyter-widgets/base",
            "_view_module_version": "1.2.0",
            "_view_name": "LayoutView",
            "align_content": null,
            "align_items": null,
            "align_self": null,
            "border": null,
            "bottom": null,
            "display": null,
            "flex": null,
            "flex_flow": null,
            "grid_area": null,
            "grid_auto_columns": null,
            "grid_auto_flow": null,
            "grid_auto_rows": null,
            "grid_column": null,
            "grid_gap": null,
            "grid_row": null,
            "grid_template_areas": null,
            "grid_template_columns": null,
            "grid_template_rows": null,
            "height": null,
            "justify_content": null,
            "justify_items": null,
            "left": null,
            "margin": null,
            "max_height": null,
            "max_width": null,
            "min_height": null,
            "min_width": null,
            "object_fit": null,
            "object_position": null,
            "order": null,
            "overflow": null,
            "overflow_x": null,
            "overflow_y": null,
            "padding": null,
            "right": null,
            "top": null,
            "visibility": null,
            "width": null
          }
        },
        "787be4cd69bf42c1915f8226752eea5a": {
          "model_module": "@jupyter-widgets/controls",
          "model_name": "VBoxModel",
          "model_module_version": "1.5.0",
          "state": {
            "_dom_classes": [
              "widget-interact"
            ],
            "_model_module": "@jupyter-widgets/controls",
            "_model_module_version": "1.5.0",
            "_model_name": "VBoxModel",
            "_view_count": null,
            "_view_module": "@jupyter-widgets/controls",
            "_view_module_version": "1.5.0",
            "_view_name": "VBoxView",
            "box_style": "",
            "children": [
              "IPY_MODEL_01c8e0c86d384a208403797720618db5",
              "IPY_MODEL_0694d7fb93874f4cb31c854cf4872922",
              "IPY_MODEL_439a81db33f84e9ab247d86b42a4e893",
              "IPY_MODEL_9ee9a8455b0848cc8488cddcad9abde6",
              "IPY_MODEL_408b94126e8541ca9213b70f7f296ecb"
            ],
            "layout": "IPY_MODEL_ebf55a1ce959402b9689b3befe7a9f13"
          }
        },
        "01c8e0c86d384a208403797720618db5": {
          "model_module": "@jupyter-widgets/controls",
          "model_name": "FloatSliderModel",
          "model_module_version": "1.5.0",
          "state": {
            "_dom_classes": [],
            "_model_module": "@jupyter-widgets/controls",
            "_model_module_version": "1.5.0",
            "_model_name": "FloatSliderModel",
            "_view_count": null,
            "_view_module": "@jupyter-widgets/controls",
            "_view_module_version": "1.5.0",
            "_view_name": "FloatSliderView",
            "continuous_update": true,
            "description": "m1",
            "description_tooltip": null,
            "disabled": false,
            "layout": "IPY_MODEL_432e196f7aaa4748bfcd8c9d655a1ae1",
            "max": 1.5,
            "min": -4.5,
            "orientation": "horizontal",
            "readout": true,
            "readout_format": ".2f",
            "step": 0.1,
            "style": "IPY_MODEL_fae28dca300b47e5872e103bdf12072b",
            "value": -0.8
          }
        },
        "0694d7fb93874f4cb31c854cf4872922": {
          "model_module": "@jupyter-widgets/controls",
          "model_name": "FloatSliderModel",
          "model_module_version": "1.5.0",
          "state": {
            "_dom_classes": [],
            "_model_module": "@jupyter-widgets/controls",
            "_model_module_version": "1.5.0",
            "_model_name": "FloatSliderModel",
            "_view_count": null,
            "_view_module": "@jupyter-widgets/controls",
            "_view_module_version": "1.5.0",
            "_view_name": "FloatSliderView",
            "continuous_update": true,
            "description": "b1",
            "description_tooltip": null,
            "disabled": false,
            "layout": "IPY_MODEL_dfcdb3551a6445e8924b9366ebf6af1e",
            "max": 1.5,
            "min": -4.5,
            "orientation": "horizontal",
            "readout": true,
            "readout_format": ".2f",
            "step": 0.1,
            "style": "IPY_MODEL_6326005ed58548d3b099da0651502e8d",
            "value": -1.5
          }
        },
        "439a81db33f84e9ab247d86b42a4e893": {
          "model_module": "@jupyter-widgets/controls",
          "model_name": "FloatSliderModel",
          "model_module_version": "1.5.0",
          "state": {
            "_dom_classes": [],
            "_model_module": "@jupyter-widgets/controls",
            "_model_module_version": "1.5.0",
            "_model_name": "FloatSliderModel",
            "_view_count": null,
            "_view_module": "@jupyter-widgets/controls",
            "_view_module_version": "1.5.0",
            "_view_name": "FloatSliderView",
            "continuous_update": true,
            "description": "m2",
            "description_tooltip": null,
            "disabled": false,
            "layout": "IPY_MODEL_f588b09c5e9e463fad15222cdbea755a",
            "max": 4.5,
            "min": -1.5,
            "orientation": "horizontal",
            "readout": true,
            "readout_format": ".2f",
            "step": 0.1,
            "style": "IPY_MODEL_ea38cbb7f0114c65aacbdd821462c205",
            "value": 1.5
          }
        },
        "9ee9a8455b0848cc8488cddcad9abde6": {
          "model_module": "@jupyter-widgets/controls",
          "model_name": "FloatSliderModel",
          "model_module_version": "1.5.0",
          "state": {
            "_dom_classes": [],
            "_model_module": "@jupyter-widgets/controls",
            "_model_module_version": "1.5.0",
            "_model_name": "FloatSliderModel",
            "_view_count": null,
            "_view_module": "@jupyter-widgets/controls",
            "_view_module_version": "1.5.0",
            "_view_name": "FloatSliderView",
            "continuous_update": true,
            "description": "b2",
            "description_tooltip": null,
            "disabled": false,
            "layout": "IPY_MODEL_b5922394febc4d0bb4b9ce7c65f4d3e1",
            "max": 4.5,
            "min": -1.5,
            "orientation": "horizontal",
            "readout": true,
            "readout_format": ".2f",
            "step": 0.1,
            "style": "IPY_MODEL_b131045a20e14286b3bb415e3f7dec5f",
            "value": 0.8
          }
        },
        "408b94126e8541ca9213b70f7f296ecb": {
          "model_module": "@jupyter-widgets/output",
          "model_name": "OutputModel",
          "model_module_version": "1.0.0",
          "state": {
            "_dom_classes": [],
            "_model_module": "@jupyter-widgets/output",
            "_model_module_version": "1.0.0",
            "_model_name": "OutputModel",
            "_view_count": null,
            "_view_module": "@jupyter-widgets/output",
            "_view_module_version": "1.0.0",
            "_view_name": "OutputView",
            "layout": "IPY_MODEL_d5b02330620d45d0b908777bfa0fda20",
            "msg_id": "",
            "outputs": []
          }
        },
        "ebf55a1ce959402b9689b3befe7a9f13": {
          "model_module": "@jupyter-widgets/base",
          "model_name": "LayoutModel",
          "model_module_version": "1.2.0",
          "state": {
            "_model_module": "@jupyter-widgets/base",
            "_model_module_version": "1.2.0",
            "_model_name": "LayoutModel",
            "_view_count": null,
            "_view_module": "@jupyter-widgets/base",
            "_view_module_version": "1.2.0",
            "_view_name": "LayoutView",
            "align_content": null,
            "align_items": null,
            "align_self": null,
            "border": null,
            "bottom": null,
            "display": null,
            "flex": null,
            "flex_flow": null,
            "grid_area": null,
            "grid_auto_columns": null,
            "grid_auto_flow": null,
            "grid_auto_rows": null,
            "grid_column": null,
            "grid_gap": null,
            "grid_row": null,
            "grid_template_areas": null,
            "grid_template_columns": null,
            "grid_template_rows": null,
            "height": null,
            "justify_content": null,
            "justify_items": null,
            "left": null,
            "margin": null,
            "max_height": null,
            "max_width": null,
            "min_height": null,
            "min_width": null,
            "object_fit": null,
            "object_position": null,
            "order": null,
            "overflow": null,
            "overflow_x": null,
            "overflow_y": null,
            "padding": null,
            "right": null,
            "top": null,
            "visibility": null,
            "width": null
          }
        },
        "432e196f7aaa4748bfcd8c9d655a1ae1": {
          "model_module": "@jupyter-widgets/base",
          "model_name": "LayoutModel",
          "model_module_version": "1.2.0",
          "state": {
            "_model_module": "@jupyter-widgets/base",
            "_model_module_version": "1.2.0",
            "_model_name": "LayoutModel",
            "_view_count": null,
            "_view_module": "@jupyter-widgets/base",
            "_view_module_version": "1.2.0",
            "_view_name": "LayoutView",
            "align_content": null,
            "align_items": null,
            "align_self": null,
            "border": null,
            "bottom": null,
            "display": null,
            "flex": null,
            "flex_flow": null,
            "grid_area": null,
            "grid_auto_columns": null,
            "grid_auto_flow": null,
            "grid_auto_rows": null,
            "grid_column": null,
            "grid_gap": null,
            "grid_row": null,
            "grid_template_areas": null,
            "grid_template_columns": null,
            "grid_template_rows": null,
            "height": null,
            "justify_content": null,
            "justify_items": null,
            "left": null,
            "margin": null,
            "max_height": null,
            "max_width": null,
            "min_height": null,
            "min_width": null,
            "object_fit": null,
            "object_position": null,
            "order": null,
            "overflow": null,
            "overflow_x": null,
            "overflow_y": null,
            "padding": null,
            "right": null,
            "top": null,
            "visibility": null,
            "width": null
          }
        },
        "fae28dca300b47e5872e103bdf12072b": {
          "model_module": "@jupyter-widgets/controls",
          "model_name": "SliderStyleModel",
          "model_module_version": "1.5.0",
          "state": {
            "_model_module": "@jupyter-widgets/controls",
            "_model_module_version": "1.5.0",
            "_model_name": "SliderStyleModel",
            "_view_count": null,
            "_view_module": "@jupyter-widgets/base",
            "_view_module_version": "1.2.0",
            "_view_name": "StyleView",
            "description_width": "",
            "handle_color": null
          }
        },
        "dfcdb3551a6445e8924b9366ebf6af1e": {
          "model_module": "@jupyter-widgets/base",
          "model_name": "LayoutModel",
          "model_module_version": "1.2.0",
          "state": {
            "_model_module": "@jupyter-widgets/base",
            "_model_module_version": "1.2.0",
            "_model_name": "LayoutModel",
            "_view_count": null,
            "_view_module": "@jupyter-widgets/base",
            "_view_module_version": "1.2.0",
            "_view_name": "LayoutView",
            "align_content": null,
            "align_items": null,
            "align_self": null,
            "border": null,
            "bottom": null,
            "display": null,
            "flex": null,
            "flex_flow": null,
            "grid_area": null,
            "grid_auto_columns": null,
            "grid_auto_flow": null,
            "grid_auto_rows": null,
            "grid_column": null,
            "grid_gap": null,
            "grid_row": null,
            "grid_template_areas": null,
            "grid_template_columns": null,
            "grid_template_rows": null,
            "height": null,
            "justify_content": null,
            "justify_items": null,
            "left": null,
            "margin": null,
            "max_height": null,
            "max_width": null,
            "min_height": null,
            "min_width": null,
            "object_fit": null,
            "object_position": null,
            "order": null,
            "overflow": null,
            "overflow_x": null,
            "overflow_y": null,
            "padding": null,
            "right": null,
            "top": null,
            "visibility": null,
            "width": null
          }
        },
        "6326005ed58548d3b099da0651502e8d": {
          "model_module": "@jupyter-widgets/controls",
          "model_name": "SliderStyleModel",
          "model_module_version": "1.5.0",
          "state": {
            "_model_module": "@jupyter-widgets/controls",
            "_model_module_version": "1.5.0",
            "_model_name": "SliderStyleModel",
            "_view_count": null,
            "_view_module": "@jupyter-widgets/base",
            "_view_module_version": "1.2.0",
            "_view_name": "StyleView",
            "description_width": "",
            "handle_color": null
          }
        },
        "f588b09c5e9e463fad15222cdbea755a": {
          "model_module": "@jupyter-widgets/base",
          "model_name": "LayoutModel",
          "model_module_version": "1.2.0",
          "state": {
            "_model_module": "@jupyter-widgets/base",
            "_model_module_version": "1.2.0",
            "_model_name": "LayoutModel",
            "_view_count": null,
            "_view_module": "@jupyter-widgets/base",
            "_view_module_version": "1.2.0",
            "_view_name": "LayoutView",
            "align_content": null,
            "align_items": null,
            "align_self": null,
            "border": null,
            "bottom": null,
            "display": null,
            "flex": null,
            "flex_flow": null,
            "grid_area": null,
            "grid_auto_columns": null,
            "grid_auto_flow": null,
            "grid_auto_rows": null,
            "grid_column": null,
            "grid_gap": null,
            "grid_row": null,
            "grid_template_areas": null,
            "grid_template_columns": null,
            "grid_template_rows": null,
            "height": null,
            "justify_content": null,
            "justify_items": null,
            "left": null,
            "margin": null,
            "max_height": null,
            "max_width": null,
            "min_height": null,
            "min_width": null,
            "object_fit": null,
            "object_position": null,
            "order": null,
            "overflow": null,
            "overflow_x": null,
            "overflow_y": null,
            "padding": null,
            "right": null,
            "top": null,
            "visibility": null,
            "width": null
          }
        },
        "ea38cbb7f0114c65aacbdd821462c205": {
          "model_module": "@jupyter-widgets/controls",
          "model_name": "SliderStyleModel",
          "model_module_version": "1.5.0",
          "state": {
            "_model_module": "@jupyter-widgets/controls",
            "_model_module_version": "1.5.0",
            "_model_name": "SliderStyleModel",
            "_view_count": null,
            "_view_module": "@jupyter-widgets/base",
            "_view_module_version": "1.2.0",
            "_view_name": "StyleView",
            "description_width": "",
            "handle_color": null
          }
        },
        "b5922394febc4d0bb4b9ce7c65f4d3e1": {
          "model_module": "@jupyter-widgets/base",
          "model_name": "LayoutModel",
          "model_module_version": "1.2.0",
          "state": {
            "_model_module": "@jupyter-widgets/base",
            "_model_module_version": "1.2.0",
            "_model_name": "LayoutModel",
            "_view_count": null,
            "_view_module": "@jupyter-widgets/base",
            "_view_module_version": "1.2.0",
            "_view_name": "LayoutView",
            "align_content": null,
            "align_items": null,
            "align_self": null,
            "border": null,
            "bottom": null,
            "display": null,
            "flex": null,
            "flex_flow": null,
            "grid_area": null,
            "grid_auto_columns": null,
            "grid_auto_flow": null,
            "grid_auto_rows": null,
            "grid_column": null,
            "grid_gap": null,
            "grid_row": null,
            "grid_template_areas": null,
            "grid_template_columns": null,
            "grid_template_rows": null,
            "height": null,
            "justify_content": null,
            "justify_items": null,
            "left": null,
            "margin": null,
            "max_height": null,
            "max_width": null,
            "min_height": null,
            "min_width": null,
            "object_fit": null,
            "object_position": null,
            "order": null,
            "overflow": null,
            "overflow_x": null,
            "overflow_y": null,
            "padding": null,
            "right": null,
            "top": null,
            "visibility": null,
            "width": null
          }
        },
        "b131045a20e14286b3bb415e3f7dec5f": {
          "model_module": "@jupyter-widgets/controls",
          "model_name": "SliderStyleModel",
          "model_module_version": "1.5.0",
          "state": {
            "_model_module": "@jupyter-widgets/controls",
            "_model_module_version": "1.5.0",
            "_model_name": "SliderStyleModel",
            "_view_count": null,
            "_view_module": "@jupyter-widgets/base",
            "_view_module_version": "1.2.0",
            "_view_name": "StyleView",
            "description_width": "",
            "handle_color": null
          }
        },
        "d5b02330620d45d0b908777bfa0fda20": {
          "model_module": "@jupyter-widgets/base",
          "model_name": "LayoutModel",
          "model_module_version": "1.2.0",
          "state": {
            "_model_module": "@jupyter-widgets/base",
            "_model_module_version": "1.2.0",
            "_model_name": "LayoutModel",
            "_view_count": null,
            "_view_module": "@jupyter-widgets/base",
            "_view_module_version": "1.2.0",
            "_view_name": "LayoutView",
            "align_content": null,
            "align_items": null,
            "align_self": null,
            "border": null,
            "bottom": null,
            "display": null,
            "flex": null,
            "flex_flow": null,
            "grid_area": null,
            "grid_auto_columns": null,
            "grid_auto_flow": null,
            "grid_auto_rows": null,
            "grid_column": null,
            "grid_gap": null,
            "grid_row": null,
            "grid_template_areas": null,
            "grid_template_columns": null,
            "grid_template_rows": null,
            "height": null,
            "justify_content": null,
            "justify_items": null,
            "left": null,
            "margin": null,
            "max_height": null,
            "max_width": null,
            "min_height": null,
            "min_width": null,
            "object_fit": null,
            "object_position": null,
            "order": null,
            "overflow": null,
            "overflow_x": null,
            "overflow_y": null,
            "padding": null,
            "right": null,
            "top": null,
            "visibility": null,
            "width": null
          }
        }
      }
    }
  },
  "nbformat_minor": 0,
  "nbformat": 4,
  "cells": [
    {
      "cell_type": "markdown",
      "source": [
        "**Important**: The interactive features of this notebook don't work in Kaggle's *Reader* mode. They only work in *Edit* mode. Therefore, before starting reading this, please click \"**Copy & Edit**\" in the top right of this window, then in the menu click *Run* and then *Run all*. Then you'll be able to use all the interactive sliders in this notebook."
      ],
      "metadata": {
        "id": "Nrz4byumseeA"
      }
    },
    {
      "cell_type": "markdown",
      "source": [
        "## Fitting a function with *gradient descent*"
      ],
      "metadata": {
        "id": "llfvitwmseeB"
      }
    },
    {
      "cell_type": "markdown",
      "source": [
        "A neural network is just a mathematical function. In the most standard kind of neural network, the function:\n",
        "\n",
        "1. Multiplies each input by a number of values. These values are known as *parameters*\n",
        "1. Adds them up for each group of values\n",
        "1. Replaces the negative numbers with zeros\n",
        "\n",
        "This represents one \"layer\". Then these three steps are repeated, using the outputs of the previous layer as the inputs to the next layer. Initially, the parameters in this function are selected randomly. Therefore a newly created neural network doesn't do anything useful at all -- it's just random!\n",
        "\n",
        "To get the function to \"learn\" to do something useful, we have to change the parameters to make them \"better\" in some way. We do this using *gradient descent*. Let's see how this works..."
      ],
      "metadata": {
        "id": "SUXxSmKRseeB"
      }
    },
    {
      "cell_type": "code",
      "source": [
        "from ipywidgets import interact\n",
        "from fastai.basics import *\n",
        "\n",
        "plt.rc('figure', dpi=90)\n",
        "\n",
        "def plot_function(f, title=None, min=-2.1, max=2.1, color='r', ylim=None):\n",
        "    x = torch.linspace(min,max, 100)[:,None]\n",
        "    if ylim: plt.ylim(ylim)\n",
        "    plt.plot(x, f(x), color)\n",
        "    if title is not None: plt.title(title)"
      ],
      "metadata": {
        "_kg_hide-input": true,
        "execution": {
          "iopub.status.busy": "2022-04-23T08:54:34.585263Z",
          "iopub.execute_input": "2022-04-23T08:54:34.587766Z",
          "iopub.status.idle": "2022-04-23T08:54:36.961606Z",
          "shell.execute_reply.started": "2022-04-23T08:54:34.587646Z",
          "shell.execute_reply": "2022-04-23T08:54:36.960846Z"
        },
        "trusted": true,
        "id": "GB3iduOFseeB"
      },
      "execution_count": 1,
      "outputs": []
    },
    {
      "cell_type": "markdown",
      "source": [
        "To learn how gradient descent works, we're going to start by fitting a quadratic, since that's a function most of us are probably more familiar with than a neural network. Here's the quadratic we're going to try to fit:"
      ],
      "metadata": {
        "id": "CYqXXQL1seeC"
      }
    },
    {
      "cell_type": "code",
      "source": [
        "def f(x): return 3*x**2 + 2*x + 1\n",
        "\n",
        "plot_function(f, \"$3x^2 + 2x + 1$\")"
      ],
      "metadata": {
        "execution": {
          "iopub.status.busy": "2022-04-23T08:54:36.963135Z",
          "iopub.execute_input": "2022-04-23T08:54:36.96361Z",
          "iopub.status.idle": "2022-04-23T08:54:37.603953Z",
          "shell.execute_reply.started": "2022-04-23T08:54:36.963574Z",
          "shell.execute_reply": "2022-04-23T08:54:37.60309Z"
        },
        "trusted": true,
        "id": "qGA_hQlmseeC",
        "outputId": "8c772207-abd1-43ad-f392-ae0cfd354031",
        "colab": {
          "base_uri": "https://localhost:8080/",
          "height": 412
        }
      },
      "execution_count": 2,
      "outputs": [
        {
          "output_type": "display_data",
          "data": {
            "text/plain": [
              "<Figure size 576x432 with 1 Axes>"
            ],
            "image/png": "[encoded data removed]"
          },
          "metadata": {}
        }
      ]
    },
    {
      "cell_type": "markdown",
      "source": [
        "This quadratic is of the form $ax^2+bx+c$, with parameters $a=3$, $b=2$, $c=1$. To make it easier to try out different quadratics for fitting a model to the data we'll create, let's create a function that calculates the value of a point on any quadratic:"
      ],
      "metadata": {
        "id": "_SHmYr4bseeC"
      }
    },
    {
      "cell_type": "code",
      "source": [
        "def quad(a, b, c, x): return a*x**2 + b*x + c"
      ],
      "metadata": {
        "execution": {
          "iopub.status.busy": "2022-04-23T08:54:37.605073Z",
          "iopub.execute_input": "2022-04-23T08:54:37.605295Z",
          "iopub.status.idle": "2022-04-23T08:54:37.610024Z",
          "shell.execute_reply.started": "2022-04-23T08:54:37.605268Z",
          "shell.execute_reply": "2022-04-23T08:54:37.609103Z"
        },
        "trusted": true,
        "id": "rkDASOD9seeC"
      },
      "execution_count": 3,
      "outputs": []
    },
    {
      "cell_type": "markdown",
      "source": [
        "If we fix some particular values of a, b, and c, then we'll have made a quadratic. To fix values passed to a function in python, we use the `partial` function, like so:"
      ],
      "metadata": {
        "id": "DQSuvIi7seeC"
      }
    },
    {
      "cell_type": "code",
      "source": [
        "def mk_quad(a,b,c): return partial(quad, a,b,c)"
      ],
      "metadata": {
        "execution": {
          "iopub.status.busy": "2022-04-23T08:54:37.611932Z",
          "iopub.execute_input": "2022-04-23T08:54:37.612415Z",
          "iopub.status.idle": "2022-04-23T08:54:37.622926Z",
          "shell.execute_reply.started": "2022-04-23T08:54:37.612377Z",
          "shell.execute_reply": "2022-04-23T08:54:37.622077Z"
        },
        "trusted": true,
        "id": "URcMxatZseeC"
      },
      "execution_count": 4,
      "outputs": []
    },
    {
      "cell_type": "markdown",
      "source": [
        "So for instance, we can recreate our previous quadratic:"
      ],
      "metadata": {
        "id": "RACeH7aVseeC"
      }
    },
    {
      "cell_type": "code",
      "source": [
        "f2 = mk_quad(3,2,1)\n",
        "plot_function(f2)"
      ],
      "metadata": {
        "execution": {
          "iopub.status.busy": "2022-04-23T08:54:37.624649Z",
          "iopub.execute_input": "2022-04-23T08:54:37.625357Z",
          "iopub.status.idle": "2022-04-23T08:54:37.829696Z",
          "shell.execute_reply.started": "2022-04-23T08:54:37.62531Z",
          "shell.execute_reply": "2022-04-23T08:54:37.828997Z"
        },
        "trusted": true,
        "id": "JeY8Vgf_seeC",
        "outputId": "249e4d70-ef60-4e6d-81a7-f23b8826b577",
        "colab": {
          "base_uri": "https://localhost:8080/",
          "height": 389
        }
      },
      "execution_count": 5,
      "outputs": [
        {
          "output_type": "display_data",
          "data": {
            "text/plain": [
              "<Figure size 576x432 with 1 Axes>"
            ],
            "image/png": "[encoded data removed]"
          },
          "metadata": {}
        }
      ]
    },
    {
      "cell_type": "markdown",
      "source": [
        "Now let's simulate making some noisy measurements of our quadratic `f`. We'll then use gradient descent to see if we can recreate the original function from the data.\n",
        "\n",
        "Here's a couple of functions to add some random noise to data:"
      ],
      "metadata": {
        "id": "OEZwE8UeseeC"
      }
    },
    {
      "cell_type": "code",
      "source": [
        "def noise(x, scale): return np.random.normal(scale=scale, size=x.shape)\n",
        "def add_noise(x, mult, add): return x * (1+noise(x,mult)) + noise(x,add)"
      ],
      "metadata": {
        "execution": {
          "iopub.status.busy": "2022-04-23T08:54:37.831069Z",
          "iopub.execute_input": "2022-04-23T08:54:37.831627Z",
          "iopub.status.idle": "2022-04-23T08:54:37.838391Z",
          "shell.execute_reply.started": "2022-04-23T08:54:37.831581Z",
          "shell.execute_reply": "2022-04-23T08:54:37.837454Z"
        },
        "trusted": true,
        "id": "WSR1ihIsseeC"
      },
      "execution_count": 6,
      "outputs": []
    },
    {
      "cell_type": "markdown",
      "source": [
        "Let's use the now to create our noisy measurements based on the quadratic above:"
      ],
      "metadata": {
        "id": "ZqCyW882seeC"
      }
    },
    {
      "cell_type": "code",
      "source": [
        "np.random.seed(42)\n",
        "\n",
        "x = torch.linspace(-2, 2, steps=20)[:,None]\n",
        "y = add_noise(f(x), 0.15, 1.5)"
      ],
      "metadata": {
        "execution": {
          "iopub.status.busy": "2022-04-23T08:54:37.839727Z",
          "iopub.execute_input": "2022-04-23T08:54:37.83997Z",
          "iopub.status.idle": "2022-04-23T08:54:37.86166Z",
          "shell.execute_reply.started": "2022-04-23T08:54:37.839939Z",
          "shell.execute_reply": "2022-04-23T08:54:37.861067Z"
        },
        "trusted": true,
        "id": "HEDka6qbseeC"
      },
      "execution_count": 7,
      "outputs": []
    },
    {
      "cell_type": "markdown",
      "source": [
        "Here's the first few values of each of `x` and `y`:"
      ],
      "metadata": {
        "id": "pLlZKRi6seeD"
      }
    },
    {
      "cell_type": "code",
      "source": [
        "x[:5],y[:5]"
      ],
      "metadata": {
        "execution": {
          "iopub.status.busy": "2022-04-23T08:54:37.862576Z",
          "iopub.execute_input": "2022-04-23T08:54:37.863311Z",
          "iopub.status.idle": "2022-04-23T08:54:37.901746Z",
          "shell.execute_reply.started": "2022-04-23T08:54:37.863275Z",
          "shell.execute_reply": "2022-04-23T08:54:37.9009Z"
        },
        "trusted": true,
        "id": "as9Uxc8dseeD",
        "outputId": "b4524043-8a6c-421c-9ee8-a6ac32c93720",
        "colab": {
          "base_uri": "https://localhost:8080/"
        }
      },
      "execution_count": 8,
      "outputs": [
        {
          "output_type": "execute_result",
          "data": {
            "text/plain": [
              "(tensor([[-2.0000],\n",
              "         [-1.7895],\n",
              "         [-1.5789],\n",
              "         [-1.3684],\n",
              "         [-1.1579]]),\n",
              " tensor([[11.8690],\n",
              "         [ 6.5433],\n",
              "         [ 5.9396],\n",
              "         [ 2.6304],\n",
              "         [ 1.7947]], dtype=torch.float64))"
            ]
          },
          "metadata": {},
          "execution_count": 8
        }
      ]
    },
    {
      "cell_type": "markdown",
      "source": [
        "As you can see, they're *tensors*. A tensor is just like an `array` in numpy (if you're not familiar with numpy, I strongly recommend reading [this great book](https://wesmckinney.com/book/), because it's a critical foundation for nearly all numeric programming in Python. Furthermore, PyTorch, which most researchers use for deep learning, is modeled closely on numpy.) A tensor can be a single number (a *scalar* or *rank-0 tensor*), a list of numbers (a *vector* or *rank-1 tensor*), a table of numbers (a *matrix* or *rank-2 tensor*), a table of tables of numbers (a *rank-3 tensor*), and so forth.\n",
        "\n",
        "We're not going to learn much about our data by just looking at the raw numbers, so let's draw a picture:"
      ],
      "metadata": {
        "id": "x_fQpBZEseeD"
      }
    },
    {
      "cell_type": "code",
      "source": [
        "plt.scatter(x,y);"
      ],
      "metadata": {
        "execution": {
          "iopub.status.busy": "2022-04-23T08:54:37.903248Z",
          "iopub.execute_input": "2022-04-23T08:54:37.903736Z",
          "iopub.status.idle": "2022-04-23T08:54:38.141765Z",
          "shell.execute_reply.started": "2022-04-23T08:54:37.903689Z",
          "shell.execute_reply": "2022-04-23T08:54:38.140818Z"
        },
        "trusted": true,
        "id": "0wfhEO9HseeD",
        "outputId": "babd9cbd-e45f-44c5-addb-3078c25ae113",
        "colab": {
          "base_uri": "https://localhost:8080/",
          "height": 389
        }
      },
      "execution_count": 9,
      "outputs": [
        {
          "output_type": "display_data",
          "data": {
            "text/plain": [
              "<Figure size 576x432 with 1 Axes>"
            ],
            "image/png": "[encoded data removed]"
          },
          "metadata": {}
        }
      ]
    },
    {
      "cell_type": "markdown",
      "source": [
        "How do we find values of a, b, and c which fit this data? One approach is to try a few values and see what fits. Here's a function which overlays a quadratic on top of our data, along with some sliders to change a, b, and c, and see how it looks:"
      ],
      "metadata": {
        "id": "HIdgNy2XseeD"
      }
    },
    {
      "cell_type": "code",
      "source": [
        "@interact(a=1.1, b=1.1, c=1.1)\n",
        "def plot_quad(a, b, c):\n",
        "    plt.scatter(x,y)\n",
        "    plot_function(mk_quad(a,b,c), ylim=(-3,13))"
      ],
      "metadata": {
        "execution": {
          "iopub.status.busy": "2022-04-23T08:54:38.143544Z",
          "iopub.execute_input": "2022-04-23T08:54:38.143753Z",
          "iopub.status.idle": "2022-04-23T08:54:38.372553Z",
          "shell.execute_reply.started": "2022-04-23T08:54:38.143725Z",
          "shell.execute_reply": "2022-04-23T08:54:38.37172Z"
        },
        "trusted": true,
        "id": "CmL1jyHpseeD",
        "outputId": "07a1efad-305b-4c85-af37-50ed8f383d7b",
        "colab": {
          "base_uri": "https://localhost:8080/",
          "height": 1000,
          "referenced_widgets": [
            "b84cc6d770af4949bc1b9e558cfcf122",
            "cbfc5f9f4754483c87123f7c4a3d0e3c",
            "4a29f5a5865549cab2aa80a182ab6ee2",
            "e32b79890b054b658a14e21c99914582",
            "83f0ff22d49940ce912288bfdcbde90d",
            "5cb01d2a3bfc40838b8fcb9ae80c11d0",
            "dcbaf1af5d554b55b0f9730f8fb686f0",
            "2f4a82b336254e02be4fef9c2d60fe60",
            "49ee24bbbf394885a0b4649ee01eefac",
            "67c3283e1b6c4d2aa8a3b05c1a70451c",
            "90dd486923db455b9f695c9d866b0aa2",
            "13ae8de1bbf4460d9a6d284c31cbaf2c",
            "efa612539088443ca3db82581bc2b162"
          ]
        }
      },
      "execution_count": 10,
      "outputs": [
        {
          "output_type": "display_data",
          "data": {
            "text/plain": [
              "interactive(children=(FloatSlider(value=1.1, description='a', max=3.3000000000000003, min=-1.1), FloatSlider(v…"
            ],
            "application/vnd.jupyter.widget-view+json": {
              "version_major": 2,
              "version_minor": 0,
              "model_id": "b84cc6d770af4949bc1b9e558cfcf122"
            }
          },
          "metadata": {}
        },
        {
          "output_type": "display_data",
          "data": {
            "text/plain": [
              "<Figure size 576x432 with 1 Axes>"
            ],
            "image/png": "[encoded data removed]"
          },
          "metadata": {}
        },
        {
          "output_type": "display_data",
          "data": {
            "text/plain": [
              "<Figure size 576x432 with 1 Axes>"
            ],
            "image/png": "[encoded data removed]"
          },
          "metadata": {}
        },
        {
          "output_type": "display_data",
          "data": {
            "text/plain": [
              "<Figure size 576x432 with 1 Axes>"
            ],
            "image/png": "[encoded data removed]"
          },
          "metadata": {}
        },
        {
          "output_type": "display_data",
          "data": {
            "text/plain": [
              "<Figure size 576x432 with 1 Axes>"
            ],
            "image/png": "[encoded data removed]"
          },
          "metadata": {}
        },
        {
          "output_type": "display_data",
          "data": {
            "text/plain": [
              "<Figure size 576x432 with 1 Axes>"
            ],
            "image/png": "[encoded data removed]"
          },
          "metadata": {}
        },
        {
          "output_type": "display_data",
          "data": {
            "text/plain": [
              "<Figure size 576x432 with 1 Axes>"
            ],
            "image/png": "[encoded data removed]"
          },
          "metadata": {}
        },
        {
          "output_type": "display_data",
          "data": {
            "text/plain": [
              "<Figure size 576x432 with 1 Axes>"
            ],
            "image/png": "[encoded data removed]"
          },
          "metadata": {}
        },
        {
          "output_type": "display_data",
          "data": {
            "text/plain": [
              "<Figure size 576x432 with 1 Axes>"
            ],
            "image/png": "[encoded data removed]"
          },
          "metadata": {}
        },
        {
          "output_type": "display_data",
          "data": {
            "text/plain": [
              "<Figure size 576x432 with 1 Axes>"
            ],
            "image/png": "[encoded data removed]"
          },
          "metadata": {}
        },
        {
          "output_type": "display_data",
          "data": {
            "text/plain": [
              "<Figure size 576x432 with 1 Axes>"
            ],
            "image/png": "[encoded data removed]"
          },
          "metadata": {}
        }
      ]
    },
    {
      "cell_type": "markdown",
      "source": [
        "**Reminder**: If the sliders above aren't working for you, that's because the interactive features of this notebook don't work in Kaggle's *Reader* mode. They only work in *Edit* mode. Please click \"**Copy & Edit**\" in the top right of this window, then in the menu click *Run* and then *Run all*. Then you'll be able to use all the interactive sliders in this notebook."
      ],
      "metadata": {
        "id": "4rMFY-JJseeD"
      }
    },
    {
      "cell_type": "markdown",
      "source": [
        "Try moving slider `a` a bit to the left. Does that look better or worse? How about if you move it a bit to the right? Find out which direction seems to improve the fit of the quadratic to the data, and move the slider a bit in that direction. Next, do the same for slider `b`: first figure out which direction improves the fit, then move it a bit in that direction. Then do the same for `c`.\n",
        "\n",
        "OK, now go back to slider `a` and repeat the process. Do it again for `b` and `c` as well.\n",
        "\n",
        "Did you notice that by going back and doing the sliders a second time that you were able to improve things a bit further? That's an important insight -- it's only after changing `b` and `c`, for instance, that you realise that `a` actually needs some adjustment based on those new values.\n",
        "\n",
        "One thing that's making this tricky is that we don't really have a great sense of whether our fit is really better or worse. It would be easier if we had a numeric measure of that. On easy metric we could use is *mean absolute error* -- which is the distance from each data point to the curve:"
      ],
      "metadata": {
        "id": "i8gUfvrTseeD"
      }
    },
    {
      "cell_type": "code",
      "source": [
        "def mae(preds, acts): return (torch.abs(preds-acts)).mean()"
      ],
      "metadata": {
        "execution": {
          "iopub.status.busy": "2022-04-23T08:55:06.428918Z",
          "iopub.execute_input": "2022-04-23T08:55:06.429237Z",
          "iopub.status.idle": "2022-04-23T08:55:06.433738Z",
          "shell.execute_reply.started": "2022-04-23T08:55:06.429205Z",
          "shell.execute_reply": "2022-04-23T08:55:06.432713Z"
        },
        "trusted": true,
        "id": "HShR6BamseeD"
      },
      "execution_count": null,
      "outputs": []
    },
    {
      "cell_type": "markdown",
      "source": [
        "We'll update our interactive function to print this at the top for us.\n",
        "\n",
        "Use this to repeat the approach we took before to try to find the best fit, but this time just use the value of the metric to decide which direction to move each slider, and how far to move it.\n",
        "\n",
        "This time around, try doing it in the opposite order: `c`, then `b`, then `a`.\n",
        "\n",
        "You'll probably find that you have to go through the set of sliders a couple of times to get the best fit."
      ],
      "metadata": {
        "id": "6BwinaqqseeD"
      }
    },
    {
      "cell_type": "code",
      "source": [
        "@interact(a=1.1, b=1.1, c=1.1)\n",
        "def plot_quad(a, b, c):\n",
        "    f = mk_quad(a,b,c)\n",
        "    plt.scatter(x,y)\n",
        "    loss = mae(f(x), y)\n",
        "    plot_function(f, ylim=(-3,12), title=f\"MAE: {loss.item():.2f}\")"
      ],
      "metadata": {
        "execution": {
          "iopub.status.busy": "2022-04-23T08:55:07.451295Z",
          "iopub.execute_input": "2022-04-23T08:55:07.452152Z",
          "iopub.status.idle": "2022-04-23T08:55:07.701428Z",
          "shell.execute_reply.started": "2022-04-23T08:55:07.452102Z",
          "shell.execute_reply": "2022-04-23T08:55:07.700643Z"
        },
        "trusted": true,
        "id": "pqkctNomseeD",
        "outputId": "29f09d45-4d8d-4549-b9c1-d9158cb3f927",
        "colab": {
          "base_uri": "https://localhost:8080/",
          "height": 504,
          "referenced_widgets": [
            "ddce62f75a0244e18e725d7926ab4aa6",
            "cf6b276e3fe54bacada383d5965b5494",
            "b34df70a261445f29cdb870bcc8c2faf",
            "445c171046fb4d39916e2996fcaadd7b",
            "14ffce8bb24f47a0ad7ce44c2678dcdb",
            "120cc14252bb4d69a3b2428ed086c24e",
            "06a96409bc824e44959ccc8631865e0b",
            "dc2b713245044d68b34b60a75cc9e5bd",
            "cd95fa9161654b0f8a135abaf316a5db",
            "e876e6807ef3442abca7d2504a9ab859",
            "b98d13ff7ab9486b97c65e521c07ca33",
            "804b1af78f0b446c8008efdf8da0ecba",
            "9189ad648b7f44aca09690d79705df5a"
          ]
        }
      },
      "execution_count": 20,
      "outputs": [
        {
          "output_type": "display_data",
          "data": {
            "text/plain": [
              "interactive(children=(FloatSlider(value=1.1, description='a', max=3.3000000000000003, min=-1.1), FloatSlider(v…"
            ],
            "application/vnd.jupyter.widget-view+json": {
              "version_major": 2,
              "version_minor": 0,
              "model_id": "ddce62f75a0244e18e725d7926ab4aa6"
            }
          },
          "metadata": {}
        },
        {
          "output_type": "display_data",
          "data": {
            "text/plain": [
              "<Figure size 576x432 with 1 Axes>"
            ],
            "image/png": "[encoded data removed]"
          },
          "metadata": {}
        }
      ]
    },
    {
      "cell_type": "markdown",
      "source": [
        "In a modern neural network we'll often have tens of millions of parameters to fit, or more, and thousands or millions of data points to fit them to. We're not going to be able to do that by moving sliders around! We'll need to automate this process.\n",
        "\n",
        "Thankfully, that turns out to be pretty straightforward. We can use calculus to figure out, for each parameter, whether we should increase or decrease it.\n",
        "\n",
        "Uh oh, calculus! If you haven't touched calculus since school, you might be getting ready to run away at this point. But don't worry, we don't actually need much calculus at all. Just derivatives, which measure the rate of change of a function. We don't even need to calculate them ourselves, because the computer will do it for us! If you've forgotten what a derivitive is, then watch the first three of these fantastic [videos by Professor Dave](https://www.youtube.com/playlist?list=PLybg94GvOJ9ELZEe9s2NXTKr41Yedbw7M). It's only 15 minutes in total, so give it a go! Then come back here and we'll continue on our journey..."
      ],
      "metadata": {
        "id": "1S7qVu1RseeD"
      }
    },
    {
      "cell_type": "markdown",
      "source": [
        "## Automating gradient descent"
      ],
      "metadata": {
        "id": "JICsVt_GseeD"
      }
    },
    {
      "cell_type": "markdown",
      "source": [
        "The basic idea is this: if we know the *gradient* of our `mae()` function *with respect to* our parameters, `a`, `b`, and `c`, then that means we know how adjusting (for instance) `a` will change the value of `mae()`. If, say, `a` has a *negative* gradient, then we know that increasing `a` will decrease `mae()`. Then we know that's what we need to do, since we trying to make `mae()` as low as possible.\n",
        "\n",
        "So, we find the gradient of `mae()` for each of our parameters, and then adjust our parameters a bit in the *opposite* direction to the sign of the gradient.\n",
        "\n",
        "To do this, first we need a function that takes all the parameters `a`, `b`, and `c` as a single vector input, and returns the value `mae()` based on those parameters:"
      ],
      "metadata": {
        "id": "SFb7XRTrseeD"
      }
    },
    {
      "cell_type": "code",
      "source": [
        "def quad_mae(params):\n",
        "    f = mk_quad(*params)\n",
        "    return mae(f(x), y)"
      ],
      "metadata": {
        "execution": {
          "iopub.status.busy": "2022-04-22T22:28:41.831976Z",
          "iopub.execute_input": "2022-04-22T22:28:41.832211Z",
          "iopub.status.idle": "2022-04-22T22:28:41.837761Z",
          "shell.execute_reply.started": "2022-04-22T22:28:41.832181Z",
          "shell.execute_reply": "2022-04-22T22:28:41.836892Z"
        },
        "trusted": true,
        "id": "FW1IWzS_seeD"
      },
      "execution_count": 12,
      "outputs": []
    },
    {
      "cell_type": "markdown",
      "source": [
        "Let's try it:"
      ],
      "metadata": {
        "id": "_E8e0VaWseeE"
      }
    },
    {
      "cell_type": "code",
      "source": [
        "quad_mae([1.1, 1.1, 1.1])"
      ],
      "metadata": {
        "execution": {
          "iopub.status.busy": "2022-04-22T22:28:41.839427Z",
          "iopub.execute_input": "2022-04-22T22:28:41.839663Z",
          "iopub.status.idle": "2022-04-22T22:28:41.853343Z",
          "shell.execute_reply.started": "2022-04-22T22:28:41.839635Z",
          "shell.execute_reply": "2022-04-22T22:28:41.852644Z"
        },
        "trusted": true,
        "id": "E0X4mHMUseeE",
        "outputId": "7b067159-301a-49bb-8605-45d905d32f30",
        "colab": {
          "base_uri": "https://localhost:8080/"
        }
      },
      "execution_count": 13,
      "outputs": [
        {
          "output_type": "execute_result",
          "data": {
            "text/plain": [
              "TensorBase(2.4219)"
            ]
          },
          "metadata": {},
          "execution_count": 13
        }
      ]
    },
    {
      "cell_type": "markdown",
      "source": [
        "Yup, that's the same as the starting `mae()` we had in our plot before.\n",
        "\n",
        "We're first going to do exactly the same thing as we did manually -- pick some arbritrary starting point for our parameters. We'll put them all into a single tensor:"
      ],
      "metadata": {
        "id": "vcHi2QZ1seeE"
      }
    },
    {
      "cell_type": "code",
      "source": [
        "abc = torch.tensor([1.1,1.1,1.1])"
      ],
      "metadata": {
        "execution": {
          "iopub.status.busy": "2022-04-22T22:28:41.854708Z",
          "iopub.execute_input": "2022-04-22T22:28:41.855001Z",
          "iopub.status.idle": "2022-04-22T22:28:41.863677Z",
          "shell.execute_reply.started": "2022-04-22T22:28:41.854965Z",
          "shell.execute_reply": "2022-04-22T22:28:41.862424Z"
        },
        "trusted": true,
        "id": "MlWzeFGxseeF"
      },
      "execution_count": 14,
      "outputs": []
    },
    {
      "cell_type": "markdown",
      "source": [
        "To tell PyTorch that we want it to calculate gradients for these parameters, we need to call `requires_grad_()`:"
      ],
      "metadata": {
        "id": "yBFgP0FqseeF"
      }
    },
    {
      "cell_type": "code",
      "source": [
        "abc.requires_grad_()"
      ],
      "metadata": {
        "execution": {
          "iopub.status.busy": "2022-04-22T22:28:41.865105Z",
          "iopub.execute_input": "2022-04-22T22:28:41.86557Z",
          "iopub.status.idle": "2022-04-22T22:28:41.881016Z",
          "shell.execute_reply.started": "2022-04-22T22:28:41.865497Z",
          "shell.execute_reply": "2022-04-22T22:28:41.879681Z"
        },
        "trusted": true,
        "id": "yvS1qy7pseeF",
        "outputId": "94be76ed-db2f-49e5-b36d-b881b66201f1",
        "colab": {
          "base_uri": "https://localhost:8080/"
        }
      },
      "execution_count": 15,
      "outputs": [
        {
          "output_type": "execute_result",
          "data": {
            "text/plain": [
              "tensor([1.1000, 1.1000, 1.1000], requires_grad=True)"
            ]
          },
          "metadata": {},
          "execution_count": 15
        }
      ]
    },
    {
      "cell_type": "markdown",
      "source": [
        "We can now calculate `mae()`. Generally, when doing gradient descent, the thing we're trying to minimise is called the *loss*:"
      ],
      "metadata": {
        "id": "JNMo_3dPseeF"
      }
    },
    {
      "cell_type": "code",
      "source": [
        "loss = quad_mae(abc)\n",
        "loss"
      ],
      "metadata": {
        "execution": {
          "iopub.status.busy": "2022-04-22T22:28:41.882498Z",
          "iopub.execute_input": "2022-04-22T22:28:41.882908Z",
          "iopub.status.idle": "2022-04-22T22:28:41.894811Z",
          "shell.execute_reply.started": "2022-04-22T22:28:41.882865Z",
          "shell.execute_reply": "2022-04-22T22:28:41.893828Z"
        },
        "trusted": true,
        "id": "522R6ZuIseeF",
        "outputId": "edebd5db-77ec-4511-ab53-63e6c240c178",
        "colab": {
          "base_uri": "https://localhost:8080/"
        }
      },
      "execution_count": 16,
      "outputs": [
        {
          "output_type": "execute_result",
          "data": {
            "text/plain": [
              "TensorBase(2.4219, grad_fn=<AliasBackward0>)"
            ]
          },
          "metadata": {},
          "execution_count": 16
        }
      ]
    },
    {
      "cell_type": "markdown",
      "source": [
        "To get PyTorch to now calculate the gradients, we need to call `backward()`"
      ],
      "metadata": {
        "id": "mnJj4Wc6seeF"
      }
    },
    {
      "cell_type": "code",
      "source": [
        "loss.backward()"
      ],
      "metadata": {
        "execution": {
          "iopub.status.busy": "2022-04-22T22:28:41.896144Z",
          "iopub.execute_input": "2022-04-22T22:28:41.896493Z",
          "iopub.status.idle": "2022-04-22T22:28:41.914719Z",
          "shell.execute_reply.started": "2022-04-22T22:28:41.896462Z",
          "shell.execute_reply": "2022-04-22T22:28:41.913717Z"
        },
        "trusted": true,
        "id": "Fm2R4CBJseeF"
      },
      "execution_count": 17,
      "outputs": []
    },
    {
      "cell_type": "markdown",
      "source": [
        "The gradients will be stored for us in an attribute called `grad`:"
      ],
      "metadata": {
        "id": "uCw9QfbfseeF"
      }
    },
    {
      "cell_type": "code",
      "source": [
        "abc.grad"
      ],
      "metadata": {
        "execution": {
          "iopub.status.busy": "2022-04-22T22:28:41.916372Z",
          "iopub.execute_input": "2022-04-22T22:28:41.91704Z",
          "iopub.status.idle": "2022-04-22T22:28:41.925299Z",
          "shell.execute_reply.started": "2022-04-22T22:28:41.916988Z",
          "shell.execute_reply": "2022-04-22T22:28:41.924407Z"
        },
        "trusted": true,
        "id": "BeZWNHjJseeF",
        "outputId": "30e21384-706b-40a1-ba72-99f41c90eac1",
        "colab": {
          "base_uri": "https://localhost:8080/"
        }
      },
      "execution_count": 18,
      "outputs": [
        {
          "output_type": "execute_result",
          "data": {
            "text/plain": [
              "tensor([-1.3529, -0.0316, -0.5000])"
            ]
          },
          "metadata": {},
          "execution_count": 18
        }
      ]
    },
    {
      "cell_type": "markdown",
      "source": [
        "According to these gradients, all our parameters are a little low. So let's increase them a bit. If we subtract the gradient, multiplied by a small number, that should improve them a bit:"
      ],
      "metadata": {
        "id": "jqAcay2BseeF"
      }
    },
    {
      "cell_type": "code",
      "source": [
        "with torch.no_grad():\n",
        "    abc -= abc.grad*0.01\n",
        "    loss = quad_mae(abc)\n",
        "\n",
        "print(f'loss={loss.item():.2f}')"
      ],
      "metadata": {
        "execution": {
          "iopub.status.busy": "2022-04-22T22:28:41.927221Z",
          "iopub.execute_input": "2022-04-22T22:28:41.927714Z",
          "iopub.status.idle": "2022-04-22T22:28:41.941471Z",
          "shell.execute_reply.started": "2022-04-22T22:28:41.927665Z",
          "shell.execute_reply": "2022-04-22T22:28:41.940784Z"
        },
        "trusted": true,
        "id": "nEJzkPitseeF",
        "outputId": "a52ae2bb-4775-4393-a1cc-8a49814cf817",
        "colab": {
          "base_uri": "https://localhost:8080/"
        }
      },
      "execution_count": 21,
      "outputs": [
        {
          "output_type": "stream",
          "name": "stdout",
          "text": [
            "loss=2.38\n"
          ]
        }
      ]
    },
    {
      "cell_type": "markdown",
      "source": [
        "Yes, our loss has gone down!\n",
        "\n",
        "The \"small number\" we multiply is called the *learning rate*, and is the most important *hyper-parameter* to set when training a neural network.\n",
        "\n",
        "BTW, you'll see we had to wrap our calculation of the new parameters in `with torch.no_grad()`. That disables the calculation of gradients for any operations inside that context manager. We have to do that, because `abc -= abc.grad*0.01` isn't actually part of our quadratic model, so we don't want derivitives to include that calculation.\n",
        "\n",
        "We can use a loop to do a few more iterations of this:"
      ],
      "metadata": {
        "id": "ZSyQeoXdseeF"
      }
    },
    {
      "cell_type": "code",
      "source": [
        "for i in range(10):\n",
        "    loss = quad_mae(abc)\n",
        "    loss.backward()\n",
        "    with torch.no_grad(): abc -= abc.grad*0.01\n",
        "    print(f'step={i}; loss={loss.item():.2f}')"
      ],
      "metadata": {
        "execution": {
          "iopub.status.busy": "2022-04-22T22:28:41.942822Z",
          "iopub.execute_input": "2022-04-22T22:28:41.943242Z",
          "iopub.status.idle": "2022-04-22T22:28:41.968186Z",
          "shell.execute_reply.started": "2022-04-22T22:28:41.943202Z",
          "shell.execute_reply": "2022-04-22T22:28:41.967081Z"
        },
        "trusted": true,
        "id": "jrk3CgWcseeF",
        "outputId": "0a8db28c-bc29-45f6-bed0-e1347ddcc28c",
        "colab": {
          "base_uri": "https://localhost:8080/"
        }
      },
      "execution_count": 23,
      "outputs": [
        {
          "output_type": "stream",
          "name": "stdout",
          "text": [
            "step=0; loss=2.34\n",
            "step=1; loss=2.28\n",
            "step=2; loss=2.19\n",
            "step=3; loss=2.09\n",
            "step=4; loss=1.96\n",
            "step=5; loss=1.84\n",
            "step=6; loss=1.70\n",
            "step=7; loss=1.57\n",
            "step=8; loss=1.45\n",
            "step=9; loss=1.34\n"
          ]
        }
      ]
    },
    {
      "cell_type": "markdown",
      "source": [
        "As you can see, our loss keeps going down!\n",
        "\n",
        "If you keep running this loop for long enough however, you'll see that the loss eventually starts increasing for a while. That's because once the parameters get close to the correct answer, our parameter updates will jump right over the correct answer! To avoid this, we need to decrease our learning rate as we train. This is done using a *learning rate schedule*, and can be automated in most deep learning frameworks, such as fastai and PyTorch."
      ],
      "metadata": {
        "id": "cBm90aWrseeF"
      }
    },
    {
      "cell_type": "markdown",
      "source": [
        "## How a neural network approximates any given function"
      ],
      "metadata": {
        "id": "1iwyknxKseeF"
      }
    },
    {
      "cell_type": "markdown",
      "source": [
        "But neural nets are much more convenient and powerful than this example showed, because we can learn much more than just a quadratic with them. How does *that* work?\n",
        "\n",
        "The trick is that a neural network is a very expressive function. In fact -- it's [infinitely expressive](https://en.wikipedia.org/wiki/Universal_approximation_theorem). A neural network can approximate any computable function, given enough parameters. A \"computable function\" can cover just about anything you can imagine: understand and translate human speech; paint a picture; diagnose a disease from medical imaging; write an essay; etc...\n",
        "\n",
        "The way a neural network approximates a function actually turns out to be very simple. The key trick is to combine two extremely basic steps:\n",
        "\n",
        "1. Matrix multiplication, which is just multiplying things together and then adding them up\n",
        "1. The function $max(x,0)$, which simply replaces all negative numbers with zero.\n",
        "\n",
        "In PyTorch, the function $max(x,0)$ is written as `np.clip(x,0)`. The combination of a linear function and this *max()* is called a *rectified linear function*, and it can be implemented like this:"
      ],
      "metadata": {
        "id": "H_8t5kLLseeF"
      }
    },
    {
      "cell_type": "code",
      "source": [
        "def rectified_linear(m,b,x):\n",
        "    y = m*x+b\n",
        "    return torch.clip(y, 0.)"
      ],
      "metadata": {
        "execution": {
          "iopub.status.busy": "2022-04-22T22:28:41.970051Z",
          "iopub.execute_input": "2022-04-22T22:28:41.970814Z",
          "iopub.status.idle": "2022-04-22T22:28:41.976113Z",
          "shell.execute_reply.started": "2022-04-22T22:28:41.970763Z",
          "shell.execute_reply": "2022-04-22T22:28:41.975338Z"
        },
        "trusted": true,
        "id": "oHS17qg5seeF"
      },
      "execution_count": 24,
      "outputs": []
    },
    {
      "cell_type": "markdown",
      "source": [
        "Here's what it looks like:"
      ],
      "metadata": {
        "id": "_ykIbb2kseeF"
      }
    },
    {
      "cell_type": "code",
      "source": [
        "plot_function(partial(rectified_linear, 1,1))"
      ],
      "metadata": {
        "execution": {
          "iopub.status.busy": "2022-04-22T22:28:41.977336Z",
          "iopub.execute_input": "2022-04-22T22:28:41.978052Z",
          "iopub.status.idle": "2022-04-22T22:28:42.197682Z",
          "shell.execute_reply.started": "2022-04-22T22:28:41.978012Z",
          "shell.execute_reply": "2022-04-22T22:28:42.196709Z"
        },
        "trusted": true,
        "id": "cMERht_DseeF",
        "outputId": "12661a77-f72c-44db-c85c-bd846e8ed86b",
        "colab": {
          "base_uri": "https://localhost:8080/",
          "height": 389
        }
      },
      "execution_count": 25,
      "outputs": [
        {
          "output_type": "display_data",
          "data": {
            "text/plain": [
              "<Figure size 576x432 with 1 Axes>"
            ],
            "image/png": "[encoded data removed]"
          },
          "metadata": {}
        }
      ]
    },
    {
      "cell_type": "markdown",
      "source": [
        "BTW, instead of `torch.clip(y, 0.)`, we can instead use `F.relu(x)`, which does exactly the same thing. In PyTorch, `F` refers to the `torch.nn.functional` module."
      ],
      "metadata": {
        "id": "Jf7IN2yUseeF"
      }
    },
    {
      "cell_type": "code",
      "source": [
        "import torch.nn.functional as F\n",
        "def rectified_linear2(m,b,x): return F.relu(m*x+b)\n",
        "plot_function(partial(rectified_linear2, 1,1))"
      ],
      "metadata": {
        "execution": {
          "iopub.status.busy": "2022-04-22T22:28:42.199561Z",
          "iopub.execute_input": "2022-04-22T22:28:42.200133Z",
          "iopub.status.idle": "2022-04-22T22:28:42.40433Z",
          "shell.execute_reply.started": "2022-04-22T22:28:42.200083Z",
          "shell.execute_reply": "2022-04-22T22:28:42.403323Z"
        },
        "trusted": true,
        "id": "L60vSgrjseeF",
        "outputId": "6e402f7a-412f-4a3b-d18e-962eabe7f111",
        "colab": {
          "base_uri": "https://localhost:8080/",
          "height": 389
        }
      },
      "execution_count": 26,
      "outputs": [
        {
          "output_type": "display_data",
          "data": {
            "text/plain": [
              "<Figure size 576x432 with 1 Axes>"
            ],
            "image/png": "[encoded data removed]"
          },
          "metadata": {}
        }
      ]
    },
    {
      "cell_type": "markdown",
      "source": [
        "To understand how this function works, try using this interactive version to play around with the parameters `m` and `b`:"
      ],
      "metadata": {
        "id": "KhNlGg17seeF"
      }
    },
    {
      "cell_type": "code",
      "source": [
        "@interact(m=1.5, b=1.5)\n",
        "def plot_relu(m, b):\n",
        "    plot_function(partial(rectified_linear, m,b), ylim=(-1,4))"
      ],
      "metadata": {
        "execution": {
          "iopub.status.busy": "2022-04-22T22:28:42.405808Z",
          "iopub.execute_input": "2022-04-22T22:28:42.406108Z",
          "iopub.status.idle": "2022-04-22T22:28:42.61219Z",
          "shell.execute_reply.started": "2022-04-22T22:28:42.406071Z",
          "shell.execute_reply": "2022-04-22T22:28:42.61144Z"
        },
        "trusted": true,
        "id": "ncsJYCyYseeF",
        "outputId": "a62910d7-e32e-4c08-95a9-332daaa04dbe",
        "colab": {
          "base_uri": "https://localhost:8080/",
          "height": 1000,
          "referenced_widgets": [
            "7f2f275938504ff493d4dac4adfc0c39",
            "42c3da332fa348798757d627a6ca10d1",
            "b08e8f347b784cac9ed82bdf5f43eca9",
            "3c37c83e0c874d42bbb1754c6a30fc1a",
            "9136e44def6e4338b8c4c3a65151b2f0",
            "9734040b789a4913aac6f0ba9e929e84",
            "2a832d5b903245b88050b00f3c36fd01",
            "d1311a0f53aa44038f7f2ba81ec87f14",
            "6383298119534e9d945ccf18fe7c7b13",
            "81b0582c54fe476885f3ea61b0ae4556"
          ]
        }
      },
      "execution_count": 27,
      "outputs": [
        {
          "output_type": "display_data",
          "data": {
            "text/plain": [
              "interactive(children=(FloatSlider(value=1.5, description='m', max=4.5, min=-1.5), FloatSlider(value=1.5, descr…"
            ],
            "application/vnd.jupyter.widget-view+json": {
              "version_major": 2,
              "version_minor": 0,
              "model_id": "7f2f275938504ff493d4dac4adfc0c39"
            }
          },
          "metadata": {}
        },
        {
          "output_type": "display_data",
          "data": {
            "text/plain": [
              "<Figure size 576x432 with 1 Axes>"
            ],
            "image/png": "[encoded data removed]"
          },
          "metadata": {}
        },
        {
          "output_type": "display_data",
          "data": {
            "text/plain": [
              "<Figure size 576x432 with 1 Axes>"
            ],
            "image/png": "[encoded data removed]"
          },
          "metadata": {}
        },
        {
          "output_type": "display_data",
          "data": {
            "text/plain": [
              "<Figure size 576x432 with 1 Axes>"
            ],
            "image/png": "[encoded data removed]"
          },
          "metadata": {}
        },
        {
          "output_type": "display_data",
          "data": {
            "text/plain": [
              "<Figure size 576x432 with 1 Axes>"
            ],
            "image/png": "[encoded data removed]"
          },
          "metadata": {}
        },
        {
          "output_type": "display_data",
          "data": {
            "text/plain": [
              "<Figure size 576x432 with 1 Axes>"
            ],
            "image/png": "[encoded data removed]"
          },
          "metadata": {}
        },
        {
          "output_type": "display_data",
          "data": {
            "text/plain": [
              "<Figure size 576x432 with 1 Axes>"
            ],
            "image/png": "[encoded data removed]"
          },
          "metadata": {}
        }
      ]
    },
    {
      "cell_type": "markdown",
      "source": [
        "As you see, `m` changes the slope, and `b` changes where the \"hook\" appears. This function doesn't do much on its own, but look what happens when we add two of them together:"
      ],
      "metadata": {
        "id": "7N44x2L0seeF"
      }
    },
    {
      "cell_type": "code",
      "source": [
        "def double_relu(m1,b1,m2,b2,x):\n",
        "    return rectified_linear(m1,b1,x) + rectified_linear(m2,b2,x)\n",
        "\n",
        "@interact(m1=-1.5, b1=-1.5, m2=1.5, b2=1.5)\n",
        "def plot_double_relu(m1, b1, m2, b2):\n",
        "    plot_function(partial(double_relu, m1,b1,m2,b2), ylim=(-1,6))"
      ],
      "metadata": {
        "execution": {
          "iopub.status.busy": "2022-04-22T22:28:42.613745Z",
          "iopub.execute_input": "2022-04-22T22:28:42.614042Z",
          "iopub.status.idle": "2022-04-22T22:28:42.851224Z",
          "shell.execute_reply.started": "2022-04-22T22:28:42.614007Z",
          "shell.execute_reply": "2022-04-22T22:28:42.85035Z"
        },
        "trusted": true,
        "id": "0pCiXntuseeF",
        "outputId": "e2d1f641-32c6-49c2-dea5-d08d8f6feb70",
        "colab": {
          "base_uri": "https://localhost:8080/",
          "height": 1000,
          "referenced_widgets": [
            "787be4cd69bf42c1915f8226752eea5a",
            "01c8e0c86d384a208403797720618db5",
            "0694d7fb93874f4cb31c854cf4872922",
            "439a81db33f84e9ab247d86b42a4e893",
            "9ee9a8455b0848cc8488cddcad9abde6",
            "408b94126e8541ca9213b70f7f296ecb",
            "ebf55a1ce959402b9689b3befe7a9f13",
            "432e196f7aaa4748bfcd8c9d655a1ae1",
            "fae28dca300b47e5872e103bdf12072b",
            "dfcdb3551a6445e8924b9366ebf6af1e",
            "6326005ed58548d3b099da0651502e8d",
            "f588b09c5e9e463fad15222cdbea755a",
            "ea38cbb7f0114c65aacbdd821462c205",
            "b5922394febc4d0bb4b9ce7c65f4d3e1",
            "b131045a20e14286b3bb415e3f7dec5f",
            "d5b02330620d45d0b908777bfa0fda20"
          ]
        }
      },
      "execution_count": 28,
      "outputs": [
        {
          "output_type": "display_data",
          "data": {
            "text/plain": [
              "interactive(children=(FloatSlider(value=-1.5, description='m1', max=1.5, min=-4.5), FloatSlider(value=-1.5, de…"
            ],
            "application/vnd.jupyter.widget-view+json": {
              "version_major": 2,
              "version_minor": 0,
              "model_id": "787be4cd69bf42c1915f8226752eea5a"
            }
          },
          "metadata": {}
        },
        {
          "output_type": "display_data",
          "data": {
            "text/plain": [
              "<Figure size 576x432 with 1 Axes>"
            ],
            "image/png": "[encoded data removed]"
          },
          "metadata": {}
        },
        {
          "output_type": "display_data",
          "data": {
            "text/plain": [
              "<Figure size 576x432 with 1 Axes>"
            ],
            "image/png": "[encoded data removed]"
          },
          "metadata": {}
        },
        {
          "output_type": "display_data",
          "data": {
            "text/plain": [
              "<Figure size 576x432 with 1 Axes>"
            ],
            "image/png": "[encoded data removed]"
          },
          "metadata": {}
        },
        {
          "output_type": "display_data",
          "data": {
            "text/plain": [
              "<Figure size 576x432 with 1 Axes>"
            ],
            "image/png": "[encoded data removed]"
          },
          "metadata": {}
        },
        {
          "output_type": "display_data",
          "data": {
            "text/plain": [
              "<Figure size 576x432 with 1 Axes>"
            ],
            "image/png": "[encoded data removed]"
          },
          "metadata": {}
        },
        {
          "output_type": "display_data",
          "data": {
            "text/plain": [
              "<Figure size 576x432 with 1 Axes>"
            ],
            "image/png": "[encoded data removed]"
          },
          "metadata": {}
        },
        {
          "output_type": "display_data",
          "data": {
            "text/plain": [
              "<Figure size 576x432 with 1 Axes>"
            ],
            "image/png": "[encoded data removed]"
          },
          "metadata": {}
        }
      ]
    },
    {
      "cell_type": "markdown",
      "source": [
        "If you play around with that for a while, you notice something quite profound: with enough of these rectified linear functions added together, you could approximate any function with a single input, to whatever accuracy you like! Any time the function doesn't quite match, you can just add a few more additions to the mix to make it a bit closer. As an experiment, perhaps you'd like to try creating your own `plot_triple_relu` interactive function, and maybe even include the scatter plot of our data from before, to see how close you can get?\n",
        "\n",
        "This exact same approach can be expanded to functions of 2, 3, or more parameters."
      ],
      "metadata": {
        "id": "Mz6-k9XhseeF"
      }
    },
    {
      "cell_type": "markdown",
      "source": [
        "## How to recognise an owl"
      ],
      "metadata": {
        "id": "c91q6pr8seeF"
      }
    },
    {
      "cell_type": "markdown",
      "source": [
        "OK great, we've created a nifty little example showing that we can drawing squiggly lines that go through some points. So what?\n",
        "\n",
        "Well... the truth is that actually drawing squiggly lines (or planes, or high-dimensional hyperplanes...) through some points is literally *all that deep learning does*! If your data points are, say, the RGB values of pixels in photos of owls, then you can create an owl-recogniser model by following the exact steps above.\n",
        "\n",
        "This may, at first, sound about as useful as the classic \"how to draw an owl\" guide:"
      ],
      "metadata": {
        "id": "FxYAkGtEseeF"
      }
    },
    {
      "cell_type": "markdown",
      "source": [
        "![image.png](attachment:c66592d3-c997-4c72-aed4-2dea579b96e1.png)"
      ],
      "metadata": {
        "id": "oEy_J2afseeF"
      }
    },
    {
      "cell_type": "markdown",
      "source": [
        "Students often ask me at this point \"OK Jeremy, but how do neural nets *actually work*\". But at a foundational level, there is no \"step 2\". We're done -- the above steps will, given enough time and enough data, create (for example) an owl recogniser, if you feed in enough owls (and non-owls).\n",
        "\n",
        "The devil, I guess, is in the \"given enough time and enough data\" part of the above sentence. There's a *lot* of tweaks we can make to reduce both of these things. For instance, instead of running our calculations on a normal CPU, as we've done above, we could do thousands of them simultaneously by taking advantage of a GPU. We could greatly reduce the amount of computation and data needed by using a convolution instead of a matrix multiplication, which basically means skipping over a bunch of the multiplications and additions for bits that you'd guess won't be important. We could make things much faster if, instead of starting with random parameters, we start with parameters of someone else's model that does something similar to what we want (this is called *transfer learning*).\n",
        "\n",
        "And, of course, there's lots of helpful software out there to do this stuff for you without too much fuss. Like, say, [fastai](https://docs.fast.ai).\n",
        "\n",
        "Learning these things is what we teach in our [course](https://course.fast.ai), which, like everything we make, is totally free. So if you're interested in learning more, do check it out!"
      ],
      "metadata": {
        "id": "3P_I62JhseeG"
      }
    },
    {
      "cell_type": "markdown",
      "source": [
        "As always, if you enjoyed this notebook, please upvote it to help others find it, and to encourage me to write more. If you upvote it, be careful you don't accidentally upvote your copy that's created when you click \"Copy & Edit\" -- you can find my original at [this link](https://www.kaggle.com/code/jhoward/how-does-a-neural-net-really-work)."
      ],
      "metadata": {
        "id": "3W5MKMwuseeG"
      }
    },
    {
      "cell_type": "code",
      "source": [],
      "metadata": {
        "id": "8P1qwtvVseeG"
      },
      "execution_count": null,
      "outputs": []
    }
  ]
}